{
 "cells": [
  {
   "cell_type": "markdown",
   "metadata": {},
   "source": [
    "# Project 3: Investigate TMDb Movie Data\n",
    "\n",
    "## Table of Contents\n",
    "<ul>\n",
    "<li><a href=\"#intro\">Introduction</a></li>\n",
    "<li><a href=\"#wrangling\">Data Wrangling</a></li>\n",
    "<li><a href=\"#eda\">Exploratory Data Analysis</a></li>\n",
    "<li><a href=\"#conclusions\">Conclusions</a></li>\n",
    "</ul>"
   ]
  },
  {
   "cell_type": "markdown",
   "metadata": {},
   "source": [
    "<a id='intro'></a>\n",
    "## Introduction\n",
    "\n",
    "In this project, I'll go through the data analysis process to Investigate a dataset and communicate my findings about it using Python libraries NumPy, pandas, and Matplotlib. The dataset I selected for this project is **TMDb Movie Data** which contains information about 10,000 movies collected from The Movie Database (TMDb), including: \n",
    "- user ratings\n",
    "- runtime\n",
    "- budget\n",
    "- revenue, and other information.\n",
    "\n",
    "\n",
    "While investigating and analyzing this dataset, I will be answering the following questions:\n",
    "- How do the number of movies in each genre change over time?\n",
    "- Is there a relationship between user average votes and movies revenues?\n",
    "- What runtime is associated with movies that have high revenues?\n",
    "- What is the best release (month / week / day of week) that guarantees high movie revenues?\n",
    "\n",
    "The answers to these four questions could be useful for production companies who are in the process of producing and releasing new movies and want to guarantee high movie revenue."
   ]
  },
  {
   "cell_type": "code",
   "execution_count": 141,
   "metadata": {},
   "outputs": [],
   "source": [
    "#import all necessary packages\n",
    "import pandas as pd\n",
    "import numpy as np\n",
    "import seaborn as sns\n",
    "import matplotlib.pyplot as plt\n",
    "% matplotlib inline\n",
    "\n",
    "sns.set_style('darkgrid')"
   ]
  },
  {
   "cell_type": "markdown",
   "metadata": {},
   "source": [
    "<a id='wrangling'></a>\n",
    "## Data Wrangling\n",
    "\n",
    "### General Properties"
   ]
  },
  {
   "cell_type": "code",
   "execution_count": 142,
   "metadata": {},
   "outputs": [
    {
     "data": {
      "text/html": [
       "<div>\n",
       "<style>\n",
       "    .dataframe thead tr:only-child th {\n",
       "        text-align: right;\n",
       "    }\n",
       "\n",
       "    .dataframe thead th {\n",
       "        text-align: left;\n",
       "    }\n",
       "\n",
       "    .dataframe tbody tr th {\n",
       "        vertical-align: top;\n",
       "    }\n",
       "</style>\n",
       "<table border=\"1\" class=\"dataframe\">\n",
       "  <thead>\n",
       "    <tr style=\"text-align: right;\">\n",
       "      <th></th>\n",
       "      <th>id</th>\n",
       "      <th>imdb_id</th>\n",
       "      <th>popularity</th>\n",
       "      <th>budget</th>\n",
       "      <th>revenue</th>\n",
       "      <th>original_title</th>\n",
       "      <th>cast</th>\n",
       "      <th>homepage</th>\n",
       "      <th>director</th>\n",
       "      <th>tagline</th>\n",
       "      <th>...</th>\n",
       "      <th>overview</th>\n",
       "      <th>runtime</th>\n",
       "      <th>genres</th>\n",
       "      <th>production_companies</th>\n",
       "      <th>release_date</th>\n",
       "      <th>vote_count</th>\n",
       "      <th>vote_average</th>\n",
       "      <th>release_year</th>\n",
       "      <th>budget_adj</th>\n",
       "      <th>revenue_adj</th>\n",
       "    </tr>\n",
       "  </thead>\n",
       "  <tbody>\n",
       "    <tr>\n",
       "      <th>0</th>\n",
       "      <td>135397</td>\n",
       "      <td>tt0369610</td>\n",
       "      <td>32.985763</td>\n",
       "      <td>150000000</td>\n",
       "      <td>1513528810</td>\n",
       "      <td>Jurassic World</td>\n",
       "      <td>Chris Pratt|Bryce Dallas Howard|Irrfan Khan|Vi...</td>\n",
       "      <td>http://www.jurassicworld.com/</td>\n",
       "      <td>Colin Trevorrow</td>\n",
       "      <td>The park is open.</td>\n",
       "      <td>...</td>\n",
       "      <td>Twenty-two years after the events of Jurassic ...</td>\n",
       "      <td>124</td>\n",
       "      <td>Action|Adventure|Science Fiction|Thriller</td>\n",
       "      <td>Universal Studios|Amblin Entertainment|Legenda...</td>\n",
       "      <td>6/9/15</td>\n",
       "      <td>5562</td>\n",
       "      <td>6.5</td>\n",
       "      <td>2015</td>\n",
       "      <td>1.379999e+08</td>\n",
       "      <td>1.392446e+09</td>\n",
       "    </tr>\n",
       "    <tr>\n",
       "      <th>1</th>\n",
       "      <td>76341</td>\n",
       "      <td>tt1392190</td>\n",
       "      <td>28.419936</td>\n",
       "      <td>150000000</td>\n",
       "      <td>378436354</td>\n",
       "      <td>Mad Max: Fury Road</td>\n",
       "      <td>Tom Hardy|Charlize Theron|Hugh Keays-Byrne|Nic...</td>\n",
       "      <td>http://www.madmaxmovie.com/</td>\n",
       "      <td>George Miller</td>\n",
       "      <td>What a Lovely Day.</td>\n",
       "      <td>...</td>\n",
       "      <td>An apocalyptic story set in the furthest reach...</td>\n",
       "      <td>120</td>\n",
       "      <td>Action|Adventure|Science Fiction|Thriller</td>\n",
       "      <td>Village Roadshow Pictures|Kennedy Miller Produ...</td>\n",
       "      <td>5/13/15</td>\n",
       "      <td>6185</td>\n",
       "      <td>7.1</td>\n",
       "      <td>2015</td>\n",
       "      <td>1.379999e+08</td>\n",
       "      <td>3.481613e+08</td>\n",
       "    </tr>\n",
       "  </tbody>\n",
       "</table>\n",
       "<p>2 rows × 21 columns</p>\n",
       "</div>"
      ],
      "text/plain": [
       "       id    imdb_id  popularity     budget     revenue      original_title  \\\n",
       "0  135397  tt0369610   32.985763  150000000  1513528810      Jurassic World   \n",
       "1   76341  tt1392190   28.419936  150000000   378436354  Mad Max: Fury Road   \n",
       "\n",
       "                                                cast  \\\n",
       "0  Chris Pratt|Bryce Dallas Howard|Irrfan Khan|Vi...   \n",
       "1  Tom Hardy|Charlize Theron|Hugh Keays-Byrne|Nic...   \n",
       "\n",
       "                        homepage         director             tagline  \\\n",
       "0  http://www.jurassicworld.com/  Colin Trevorrow   The park is open.   \n",
       "1    http://www.madmaxmovie.com/    George Miller  What a Lovely Day.   \n",
       "\n",
       "       ...                                                overview runtime  \\\n",
       "0      ...       Twenty-two years after the events of Jurassic ...     124   \n",
       "1      ...       An apocalyptic story set in the furthest reach...     120   \n",
       "\n",
       "                                      genres  \\\n",
       "0  Action|Adventure|Science Fiction|Thriller   \n",
       "1  Action|Adventure|Science Fiction|Thriller   \n",
       "\n",
       "                                production_companies release_date vote_count  \\\n",
       "0  Universal Studios|Amblin Entertainment|Legenda...       6/9/15       5562   \n",
       "1  Village Roadshow Pictures|Kennedy Miller Produ...      5/13/15       6185   \n",
       "\n",
       "   vote_average  release_year    budget_adj   revenue_adj  \n",
       "0           6.5          2015  1.379999e+08  1.392446e+09  \n",
       "1           7.1          2015  1.379999e+08  3.481613e+08  \n",
       "\n",
       "[2 rows x 21 columns]"
      ]
     },
     "execution_count": 142,
     "metadata": {},
     "output_type": "execute_result"
    }
   ],
   "source": [
    "#load the dataset and store it in a pandas dataframe\n",
    "df = pd.read_csv('tmdb-movies.csv')\n",
    "df.head(2)"
   ]
  },
  {
   "cell_type": "code",
   "execution_count": 143,
   "metadata": {},
   "outputs": [
    {
     "name": "stdout",
     "output_type": "stream",
     "text": [
      "<class 'pandas.core.frame.DataFrame'>\n",
      "RangeIndex: 10866 entries, 0 to 10865\n",
      "Data columns (total 21 columns):\n",
      "id                      10866 non-null int64\n",
      "imdb_id                 10856 non-null object\n",
      "popularity              10866 non-null float64\n",
      "budget                  10866 non-null int64\n",
      "revenue                 10866 non-null int64\n",
      "original_title          10866 non-null object\n",
      "cast                    10790 non-null object\n",
      "homepage                2936 non-null object\n",
      "director                10822 non-null object\n",
      "tagline                 8042 non-null object\n",
      "keywords                9373 non-null object\n",
      "overview                10862 non-null object\n",
      "runtime                 10866 non-null int64\n",
      "genres                  10843 non-null object\n",
      "production_companies    9836 non-null object\n",
      "release_date            10866 non-null object\n",
      "vote_count              10866 non-null int64\n",
      "vote_average            10866 non-null float64\n",
      "release_year            10866 non-null int64\n",
      "budget_adj              10866 non-null float64\n",
      "revenue_adj             10866 non-null float64\n",
      "dtypes: float64(4), int64(6), object(11)\n",
      "memory usage: 1.7+ MB\n"
     ]
    }
   ],
   "source": [
    "#display basic information about the dataset (total rows, total columns, data types, columns whith missing data)\n",
    "df.info()"
   ]
  },
  {
   "cell_type": "markdown",
   "metadata": {},
   "source": [
    "From looking at the result from info() function, we can notice 2 main problems in the dataset which are:\n",
    "- There are a lot of columns with missing data (imdb_id, cast, homepage, director, tagline, keywords, overview, genres, production_companies) \n",
    "- release_date column has incorrect data type\n",
    "\n",
    "The solutions to these problems:\n",
    "- Since almost all the columns with null values are of the type object or String, we can not use the result of descriptive statistics to fill them. So the only option is to drop the rows with null values. But before that, it will be better to drop the columns with missing data which are not useful in the analysis (imdb_id, cast, homepage, director, tagline, overview, keywords, production_companies ). this will help in minimizing the rows to be dropped as much as possible. \n",
    "- Also, it will be better to drop other columns which will not be used in answering the specified questions -even though they don't contain missing data- in order to simplify the analysis process. These columns are : (popularity, original_title, vote_count). and since budget_adj and revenue_adj show the budget and revenue of the associated movie in terms of 2010 dollars accounting for inflation over time, they will be used in the analysis instead of the regular budget and revenue columns, which mean both of them should also be dropped. \n",
    "- convert release_date column from string to date."
   ]
  },
  {
   "cell_type": "code",
   "execution_count": 144,
   "metadata": {},
   "outputs": [
    {
     "data": {
      "text/html": [
       "<div>\n",
       "<style>\n",
       "    .dataframe thead tr:only-child th {\n",
       "        text-align: right;\n",
       "    }\n",
       "\n",
       "    .dataframe thead th {\n",
       "        text-align: left;\n",
       "    }\n",
       "\n",
       "    .dataframe tbody tr th {\n",
       "        vertical-align: top;\n",
       "    }\n",
       "</style>\n",
       "<table border=\"1\" class=\"dataframe\">\n",
       "  <thead>\n",
       "    <tr style=\"text-align: right;\">\n",
       "      <th></th>\n",
       "      <th>id</th>\n",
       "      <th>popularity</th>\n",
       "      <th>budget</th>\n",
       "      <th>revenue</th>\n",
       "      <th>runtime</th>\n",
       "      <th>vote_count</th>\n",
       "      <th>vote_average</th>\n",
       "      <th>release_year</th>\n",
       "      <th>budget_adj</th>\n",
       "      <th>revenue_adj</th>\n",
       "    </tr>\n",
       "  </thead>\n",
       "  <tbody>\n",
       "    <tr>\n",
       "      <th>count</th>\n",
       "      <td>10866.000000</td>\n",
       "      <td>10866.000000</td>\n",
       "      <td>1.086600e+04</td>\n",
       "      <td>1.086600e+04</td>\n",
       "      <td>10866.000000</td>\n",
       "      <td>10866.000000</td>\n",
       "      <td>10866.000000</td>\n",
       "      <td>10866.000000</td>\n",
       "      <td>1.086600e+04</td>\n",
       "      <td>1.086600e+04</td>\n",
       "    </tr>\n",
       "    <tr>\n",
       "      <th>mean</th>\n",
       "      <td>66064.177434</td>\n",
       "      <td>0.646441</td>\n",
       "      <td>1.462570e+07</td>\n",
       "      <td>3.982332e+07</td>\n",
       "      <td>102.070863</td>\n",
       "      <td>217.389748</td>\n",
       "      <td>5.974922</td>\n",
       "      <td>2001.322658</td>\n",
       "      <td>1.755104e+07</td>\n",
       "      <td>5.136436e+07</td>\n",
       "    </tr>\n",
       "    <tr>\n",
       "      <th>std</th>\n",
       "      <td>92130.136561</td>\n",
       "      <td>1.000185</td>\n",
       "      <td>3.091321e+07</td>\n",
       "      <td>1.170035e+08</td>\n",
       "      <td>31.381405</td>\n",
       "      <td>575.619058</td>\n",
       "      <td>0.935142</td>\n",
       "      <td>12.812941</td>\n",
       "      <td>3.430616e+07</td>\n",
       "      <td>1.446325e+08</td>\n",
       "    </tr>\n",
       "    <tr>\n",
       "      <th>min</th>\n",
       "      <td>5.000000</td>\n",
       "      <td>0.000065</td>\n",
       "      <td>0.000000e+00</td>\n",
       "      <td>0.000000e+00</td>\n",
       "      <td>0.000000</td>\n",
       "      <td>10.000000</td>\n",
       "      <td>1.500000</td>\n",
       "      <td>1960.000000</td>\n",
       "      <td>0.000000e+00</td>\n",
       "      <td>0.000000e+00</td>\n",
       "    </tr>\n",
       "    <tr>\n",
       "      <th>25%</th>\n",
       "      <td>10596.250000</td>\n",
       "      <td>0.207583</td>\n",
       "      <td>0.000000e+00</td>\n",
       "      <td>0.000000e+00</td>\n",
       "      <td>90.000000</td>\n",
       "      <td>17.000000</td>\n",
       "      <td>5.400000</td>\n",
       "      <td>1995.000000</td>\n",
       "      <td>0.000000e+00</td>\n",
       "      <td>0.000000e+00</td>\n",
       "    </tr>\n",
       "    <tr>\n",
       "      <th>50%</th>\n",
       "      <td>20669.000000</td>\n",
       "      <td>0.383856</td>\n",
       "      <td>0.000000e+00</td>\n",
       "      <td>0.000000e+00</td>\n",
       "      <td>99.000000</td>\n",
       "      <td>38.000000</td>\n",
       "      <td>6.000000</td>\n",
       "      <td>2006.000000</td>\n",
       "      <td>0.000000e+00</td>\n",
       "      <td>0.000000e+00</td>\n",
       "    </tr>\n",
       "    <tr>\n",
       "      <th>75%</th>\n",
       "      <td>75610.000000</td>\n",
       "      <td>0.713817</td>\n",
       "      <td>1.500000e+07</td>\n",
       "      <td>2.400000e+07</td>\n",
       "      <td>111.000000</td>\n",
       "      <td>145.750000</td>\n",
       "      <td>6.600000</td>\n",
       "      <td>2011.000000</td>\n",
       "      <td>2.085325e+07</td>\n",
       "      <td>3.369710e+07</td>\n",
       "    </tr>\n",
       "    <tr>\n",
       "      <th>max</th>\n",
       "      <td>417859.000000</td>\n",
       "      <td>32.985763</td>\n",
       "      <td>4.250000e+08</td>\n",
       "      <td>2.781506e+09</td>\n",
       "      <td>900.000000</td>\n",
       "      <td>9767.000000</td>\n",
       "      <td>9.200000</td>\n",
       "      <td>2015.000000</td>\n",
       "      <td>4.250000e+08</td>\n",
       "      <td>2.827124e+09</td>\n",
       "    </tr>\n",
       "  </tbody>\n",
       "</table>\n",
       "</div>"
      ],
      "text/plain": [
       "                  id    popularity        budget       revenue       runtime  \\\n",
       "count   10866.000000  10866.000000  1.086600e+04  1.086600e+04  10866.000000   \n",
       "mean    66064.177434      0.646441  1.462570e+07  3.982332e+07    102.070863   \n",
       "std     92130.136561      1.000185  3.091321e+07  1.170035e+08     31.381405   \n",
       "min         5.000000      0.000065  0.000000e+00  0.000000e+00      0.000000   \n",
       "25%     10596.250000      0.207583  0.000000e+00  0.000000e+00     90.000000   \n",
       "50%     20669.000000      0.383856  0.000000e+00  0.000000e+00     99.000000   \n",
       "75%     75610.000000      0.713817  1.500000e+07  2.400000e+07    111.000000   \n",
       "max    417859.000000     32.985763  4.250000e+08  2.781506e+09    900.000000   \n",
       "\n",
       "         vote_count  vote_average  release_year    budget_adj   revenue_adj  \n",
       "count  10866.000000  10866.000000  10866.000000  1.086600e+04  1.086600e+04  \n",
       "mean     217.389748      5.974922   2001.322658  1.755104e+07  5.136436e+07  \n",
       "std      575.619058      0.935142     12.812941  3.430616e+07  1.446325e+08  \n",
       "min       10.000000      1.500000   1960.000000  0.000000e+00  0.000000e+00  \n",
       "25%       17.000000      5.400000   1995.000000  0.000000e+00  0.000000e+00  \n",
       "50%       38.000000      6.000000   2006.000000  0.000000e+00  0.000000e+00  \n",
       "75%      145.750000      6.600000   2011.000000  2.085325e+07  3.369710e+07  \n",
       "max     9767.000000      9.200000   2015.000000  4.250000e+08  2.827124e+09  "
      ]
     },
     "execution_count": 144,
     "metadata": {},
     "output_type": "execute_result"
    }
   ],
   "source": [
    "#display the descriptive statistics for the numeric columns of the dataset\n",
    "df.describe()"
   ]
  },
  {
   "cell_type": "markdown",
   "metadata": {},
   "source": [
    "From the result of describe() function, we can notice that some columns (budget, revenue, runtime) have the value zero as minimum, median, and 1st quartile. This could not be possible in real life, so these values need to be fixed by filling the rows that have zero with the mean of the dataset. "
   ]
  },
  {
   "cell_type": "code",
   "execution_count": 145,
   "metadata": {},
   "outputs": [
    {
     "data": {
      "text/plain": [
       "1"
      ]
     },
     "execution_count": 145,
     "metadata": {},
     "output_type": "execute_result"
    }
   ],
   "source": [
    "#check duplicates \n",
    "df.duplicated().sum()"
   ]
  },
  {
   "cell_type": "markdown",
   "metadata": {},
   "source": [
    "There is only one duplicated column that should be dropped."
   ]
  },
  {
   "cell_type": "markdown",
   "metadata": {},
   "source": [
    "### Data Cleaning \n",
    "### 1. Drop Unneeded Columns"
   ]
  },
  {
   "cell_type": "code",
   "execution_count": 146,
   "metadata": {
    "scrolled": false
   },
   "outputs": [
    {
     "name": "stdout",
     "output_type": "stream",
     "text": [
      "<class 'pandas.core.frame.DataFrame'>\n",
      "RangeIndex: 10866 entries, 0 to 10865\n",
      "Data columns (total 8 columns):\n",
      "id              10866 non-null int64\n",
      "runtime         10866 non-null int64\n",
      "genres          10843 non-null object\n",
      "release_date    10866 non-null object\n",
      "vote_average    10866 non-null float64\n",
      "release_year    10866 non-null int64\n",
      "budget_adj      10866 non-null float64\n",
      "revenue_adj     10866 non-null float64\n",
      "dtypes: float64(3), int64(3), object(2)\n",
      "memory usage: 679.2+ KB\n"
     ]
    }
   ],
   "source": [
    "#drop the columns which are not useful in the analysis process and in answering the specified questions\n",
    "df.drop(['imdb_id', 'popularity', 'budget', 'revenue', 'original_title', 'cast', 'homepage', 'director', 'tagline', 'overview', 'keywords', 'production_companies', 'vote_count'], axis = 1, inplace = True)\n",
    "df.info()"
   ]
  },
  {
   "cell_type": "markdown",
   "metadata": {},
   "source": [
    "Now we can see that only **genres** column has missing data and we will be dropping only 23 rows instead of 7930 (since the column with the minimum non-null values was **homepage**, which was having only 2936 non-null values.)"
   ]
  },
  {
   "cell_type": "markdown",
   "metadata": {},
   "source": [
    "### 2. Drop Rows with Missing Data"
   ]
  },
  {
   "cell_type": "code",
   "execution_count": 147,
   "metadata": {},
   "outputs": [
    {
     "name": "stdout",
     "output_type": "stream",
     "text": [
      "<class 'pandas.core.frame.DataFrame'>\n",
      "Int64Index: 10843 entries, 0 to 10865\n",
      "Data columns (total 8 columns):\n",
      "id              10843 non-null int64\n",
      "runtime         10843 non-null int64\n",
      "genres          10843 non-null object\n",
      "release_date    10843 non-null object\n",
      "vote_average    10843 non-null float64\n",
      "release_year    10843 non-null int64\n",
      "budget_adj      10843 non-null float64\n",
      "revenue_adj     10843 non-null float64\n",
      "dtypes: float64(3), int64(3), object(2)\n",
      "memory usage: 762.4+ KB\n"
     ]
    }
   ],
   "source": [
    "#drop rows with null values\n",
    "df.dropna(inplace = True)\n",
    "df.info()"
   ]
  },
  {
   "cell_type": "markdown",
   "metadata": {},
   "source": [
    "Now the dataset doesn't contain rows with missing data. "
   ]
  },
  {
   "cell_type": "markdown",
   "metadata": {},
   "source": [
    "### 3. Drop Duplicated Rows"
   ]
  },
  {
   "cell_type": "code",
   "execution_count": 148,
   "metadata": {},
   "outputs": [
    {
     "data": {
      "text/plain": [
       "1"
      ]
     },
     "execution_count": 148,
     "metadata": {},
     "output_type": "execute_result"
    }
   ],
   "source": [
    "#check diplicates\n",
    "df.duplicated().sum()"
   ]
  },
  {
   "cell_type": "markdown",
   "metadata": {},
   "source": [
    "Even after dropping many columns and rows from the dataset, we still have the duplicated row and it must be dropped. "
   ]
  },
  {
   "cell_type": "code",
   "execution_count": 149,
   "metadata": {},
   "outputs": [
    {
     "data": {
      "text/plain": [
       "0"
      ]
     },
     "execution_count": 149,
     "metadata": {},
     "output_type": "execute_result"
    }
   ],
   "source": [
    "#drop duplicated rows\n",
    "df.drop_duplicates(inplace = True)\n",
    "df.duplicated().sum()"
   ]
  },
  {
   "cell_type": "markdown",
   "metadata": {},
   "source": [
    "Now there are no duplicated rows in the dataset."
   ]
  },
  {
   "cell_type": "markdown",
   "metadata": {},
   "source": [
    "### 4. Fix Incorrect Data Types"
   ]
  },
  {
   "cell_type": "code",
   "execution_count": 150,
   "metadata": {
    "scrolled": false
   },
   "outputs": [
    {
     "name": "stdout",
     "output_type": "stream",
     "text": [
      "<class 'pandas.core.frame.DataFrame'>\n",
      "Int64Index: 10842 entries, 0 to 10865\n",
      "Data columns (total 8 columns):\n",
      "id              10842 non-null int64\n",
      "runtime         10842 non-null int64\n",
      "genres          10842 non-null object\n",
      "release_date    10842 non-null datetime64[ns]\n",
      "vote_average    10842 non-null float64\n",
      "release_year    10842 non-null int64\n",
      "budget_adj      10842 non-null float64\n",
      "revenue_adj     10842 non-null float64\n",
      "dtypes: datetime64[ns](1), float64(3), int64(3), object(1)\n",
      "memory usage: 762.3+ KB\n"
     ]
    }
   ],
   "source": [
    "# fix data type for release date\n",
    "df['release_date'] = pd.to_datetime(df['release_date'])\n",
    "df.info()"
   ]
  },
  {
   "cell_type": "markdown",
   "metadata": {},
   "source": [
    "Now all the columns in the dataset have the correct data type"
   ]
  },
  {
   "cell_type": "markdown",
   "metadata": {},
   "source": [
    "### 5. Fix Columns with 0 Values\n",
    "\n",
    "Let's display the descriptive statistics again to check if the 0 values problem still exist or not."
   ]
  },
  {
   "cell_type": "code",
   "execution_count": 151,
   "metadata": {
    "scrolled": true
   },
   "outputs": [
    {
     "data": {
      "text/html": [
       "<div>\n",
       "<style>\n",
       "    .dataframe thead tr:only-child th {\n",
       "        text-align: right;\n",
       "    }\n",
       "\n",
       "    .dataframe thead th {\n",
       "        text-align: left;\n",
       "    }\n",
       "\n",
       "    .dataframe tbody tr th {\n",
       "        vertical-align: top;\n",
       "    }\n",
       "</style>\n",
       "<table border=\"1\" class=\"dataframe\">\n",
       "  <thead>\n",
       "    <tr style=\"text-align: right;\">\n",
       "      <th></th>\n",
       "      <th>id</th>\n",
       "      <th>runtime</th>\n",
       "      <th>vote_average</th>\n",
       "      <th>release_year</th>\n",
       "      <th>budget_adj</th>\n",
       "      <th>revenue_adj</th>\n",
       "    </tr>\n",
       "  </thead>\n",
       "  <tbody>\n",
       "    <tr>\n",
       "      <th>count</th>\n",
       "      <td>10842.000000</td>\n",
       "      <td>10842.000000</td>\n",
       "      <td>10842.000000</td>\n",
       "      <td>10842.000000</td>\n",
       "      <td>1.084200e+04</td>\n",
       "      <td>1.084200e+04</td>\n",
       "    </tr>\n",
       "    <tr>\n",
       "      <th>mean</th>\n",
       "      <td>65870.675521</td>\n",
       "      <td>102.138443</td>\n",
       "      <td>5.974064</td>\n",
       "      <td>2001.314794</td>\n",
       "      <td>1.758712e+07</td>\n",
       "      <td>5.147797e+07</td>\n",
       "    </tr>\n",
       "    <tr>\n",
       "      <th>std</th>\n",
       "      <td>91981.355752</td>\n",
       "      <td>31.294612</td>\n",
       "      <td>0.934257</td>\n",
       "      <td>12.813617</td>\n",
       "      <td>3.433437e+07</td>\n",
       "      <td>1.447723e+08</td>\n",
       "    </tr>\n",
       "    <tr>\n",
       "      <th>min</th>\n",
       "      <td>5.000000</td>\n",
       "      <td>0.000000</td>\n",
       "      <td>1.500000</td>\n",
       "      <td>1960.000000</td>\n",
       "      <td>0.000000e+00</td>\n",
       "      <td>0.000000e+00</td>\n",
       "    </tr>\n",
       "    <tr>\n",
       "      <th>25%</th>\n",
       "      <td>10589.250000</td>\n",
       "      <td>90.000000</td>\n",
       "      <td>5.400000</td>\n",
       "      <td>1995.000000</td>\n",
       "      <td>0.000000e+00</td>\n",
       "      <td>0.000000e+00</td>\n",
       "    </tr>\n",
       "    <tr>\n",
       "      <th>50%</th>\n",
       "      <td>20557.000000</td>\n",
       "      <td>99.000000</td>\n",
       "      <td>6.000000</td>\n",
       "      <td>2006.000000</td>\n",
       "      <td>0.000000e+00</td>\n",
       "      <td>0.000000e+00</td>\n",
       "    </tr>\n",
       "    <tr>\n",
       "      <th>75%</th>\n",
       "      <td>75186.000000</td>\n",
       "      <td>111.000000</td>\n",
       "      <td>6.600000</td>\n",
       "      <td>2011.000000</td>\n",
       "      <td>2.092507e+07</td>\n",
       "      <td>3.387838e+07</td>\n",
       "    </tr>\n",
       "    <tr>\n",
       "      <th>max</th>\n",
       "      <td>417859.000000</td>\n",
       "      <td>900.000000</td>\n",
       "      <td>9.200000</td>\n",
       "      <td>2015.000000</td>\n",
       "      <td>4.250000e+08</td>\n",
       "      <td>2.827124e+09</td>\n",
       "    </tr>\n",
       "  </tbody>\n",
       "</table>\n",
       "</div>"
      ],
      "text/plain": [
       "                  id       runtime  vote_average  release_year    budget_adj  \\\n",
       "count   10842.000000  10842.000000  10842.000000  10842.000000  1.084200e+04   \n",
       "mean    65870.675521    102.138443      5.974064   2001.314794  1.758712e+07   \n",
       "std     91981.355752     31.294612      0.934257     12.813617  3.433437e+07   \n",
       "min         5.000000      0.000000      1.500000   1960.000000  0.000000e+00   \n",
       "25%     10589.250000     90.000000      5.400000   1995.000000  0.000000e+00   \n",
       "50%     20557.000000     99.000000      6.000000   2006.000000  0.000000e+00   \n",
       "75%     75186.000000    111.000000      6.600000   2011.000000  2.092507e+07   \n",
       "max    417859.000000    900.000000      9.200000   2015.000000  4.250000e+08   \n",
       "\n",
       "        revenue_adj  \n",
       "count  1.084200e+04  \n",
       "mean   5.147797e+07  \n",
       "std    1.447723e+08  \n",
       "min    0.000000e+00  \n",
       "25%    0.000000e+00  \n",
       "50%    0.000000e+00  \n",
       "75%    3.387838e+07  \n",
       "max    2.827124e+09  "
      ]
     },
     "execution_count": 151,
     "metadata": {},
     "output_type": "execute_result"
    }
   ],
   "source": [
    "#display the descriptive statistics for the numeric columns of the dataset\n",
    "df.describe()"
   ]
  },
  {
   "cell_type": "markdown",
   "metadata": {},
   "source": [
    "The problem still exists and to solve it, replace these zeros with the mean of each column."
   ]
  },
  {
   "cell_type": "code",
   "execution_count": 152,
   "metadata": {},
   "outputs": [],
   "source": [
    "#replace the zeros with the mean of runtime\n",
    "df['runtime'] = df['runtime'].replace(0, df['runtime'].mean())\n",
    "\n",
    "#replace the zeros with the mean of budget_adj\n",
    "df['budget_adj'] = df['budget_adj'].replace(0, df['budget_adj'].mean())\n",
    "\n",
    "#replace the zeros with the mean of revenue_adj\n",
    "df['revenue_adj'] = df['revenue_adj'].replace(0, df['revenue_adj'].mean())"
   ]
  },
  {
   "cell_type": "code",
   "execution_count": 153,
   "metadata": {
    "scrolled": true
   },
   "outputs": [
    {
     "data": {
      "text/html": [
       "<div>\n",
       "<style>\n",
       "    .dataframe thead tr:only-child th {\n",
       "        text-align: right;\n",
       "    }\n",
       "\n",
       "    .dataframe thead th {\n",
       "        text-align: left;\n",
       "    }\n",
       "\n",
       "    .dataframe tbody tr th {\n",
       "        vertical-align: top;\n",
       "    }\n",
       "</style>\n",
       "<table border=\"1\" class=\"dataframe\">\n",
       "  <thead>\n",
       "    <tr style=\"text-align: right;\">\n",
       "      <th></th>\n",
       "      <th>id</th>\n",
       "      <th>runtime</th>\n",
       "      <th>vote_average</th>\n",
       "      <th>release_year</th>\n",
       "      <th>budget_adj</th>\n",
       "      <th>revenue_adj</th>\n",
       "    </tr>\n",
       "  </thead>\n",
       "  <tbody>\n",
       "    <tr>\n",
       "      <th>count</th>\n",
       "      <td>10842.000000</td>\n",
       "      <td>10842.000000</td>\n",
       "      <td>10842.000000</td>\n",
       "      <td>10842.000000</td>\n",
       "      <td>1.084200e+04</td>\n",
       "      <td>1.084200e+04</td>\n",
       "    </tr>\n",
       "    <tr>\n",
       "      <th>mean</th>\n",
       "      <td>65870.675521</td>\n",
       "      <td>102.421062</td>\n",
       "      <td>5.974064</td>\n",
       "      <td>2001.314794</td>\n",
       "      <td>2.679108e+07</td>\n",
       "      <td>7.993283e+07</td>\n",
       "    </tr>\n",
       "    <tr>\n",
       "      <th>std</th>\n",
       "      <td>91981.355752</td>\n",
       "      <td>30.828622</td>\n",
       "      <td>0.934257</td>\n",
       "      <td>12.813617</td>\n",
       "      <td>3.053264e+07</td>\n",
       "      <td>1.366907e+08</td>\n",
       "    </tr>\n",
       "    <tr>\n",
       "      <th>min</th>\n",
       "      <td>5.000000</td>\n",
       "      <td>2.000000</td>\n",
       "      <td>1.500000</td>\n",
       "      <td>1960.000000</td>\n",
       "      <td>9.210911e-01</td>\n",
       "      <td>2.370705e+00</td>\n",
       "    </tr>\n",
       "    <tr>\n",
       "      <th>25%</th>\n",
       "      <td>10589.250000</td>\n",
       "      <td>90.000000</td>\n",
       "      <td>5.400000</td>\n",
       "      <td>1995.000000</td>\n",
       "      <td>1.758712e+07</td>\n",
       "      <td>5.147797e+07</td>\n",
       "    </tr>\n",
       "    <tr>\n",
       "      <th>50%</th>\n",
       "      <td>20557.000000</td>\n",
       "      <td>99.000000</td>\n",
       "      <td>6.000000</td>\n",
       "      <td>2006.000000</td>\n",
       "      <td>1.758712e+07</td>\n",
       "      <td>5.147797e+07</td>\n",
       "    </tr>\n",
       "    <tr>\n",
       "      <th>75%</th>\n",
       "      <td>75186.000000</td>\n",
       "      <td>111.000000</td>\n",
       "      <td>6.600000</td>\n",
       "      <td>2011.000000</td>\n",
       "      <td>2.092507e+07</td>\n",
       "      <td>5.147797e+07</td>\n",
       "    </tr>\n",
       "    <tr>\n",
       "      <th>max</th>\n",
       "      <td>417859.000000</td>\n",
       "      <td>900.000000</td>\n",
       "      <td>9.200000</td>\n",
       "      <td>2015.000000</td>\n",
       "      <td>4.250000e+08</td>\n",
       "      <td>2.827124e+09</td>\n",
       "    </tr>\n",
       "  </tbody>\n",
       "</table>\n",
       "</div>"
      ],
      "text/plain": [
       "                  id       runtime  vote_average  release_year    budget_adj  \\\n",
       "count   10842.000000  10842.000000  10842.000000  10842.000000  1.084200e+04   \n",
       "mean    65870.675521    102.421062      5.974064   2001.314794  2.679108e+07   \n",
       "std     91981.355752     30.828622      0.934257     12.813617  3.053264e+07   \n",
       "min         5.000000      2.000000      1.500000   1960.000000  9.210911e-01   \n",
       "25%     10589.250000     90.000000      5.400000   1995.000000  1.758712e+07   \n",
       "50%     20557.000000     99.000000      6.000000   2006.000000  1.758712e+07   \n",
       "75%     75186.000000    111.000000      6.600000   2011.000000  2.092507e+07   \n",
       "max    417859.000000    900.000000      9.200000   2015.000000  4.250000e+08   \n",
       "\n",
       "        revenue_adj  \n",
       "count  1.084200e+04  \n",
       "mean   7.993283e+07  \n",
       "std    1.366907e+08  \n",
       "min    2.370705e+00  \n",
       "25%    5.147797e+07  \n",
       "50%    5.147797e+07  \n",
       "75%    5.147797e+07  \n",
       "max    2.827124e+09  "
      ]
     },
     "execution_count": 153,
     "metadata": {},
     "output_type": "execute_result"
    }
   ],
   "source": [
    "#display the descriptive statistics for the numeric columns of the dataset\n",
    "df.describe()"
   ]
  },
  {
   "cell_type": "markdown",
   "metadata": {},
   "source": [
    "<a id='eda'></a>\n",
    "## Exploratory Data Analysis\n",
    "\n",
    "Now that the data is trimmed and cleaned, it is ready to be explored. \n",
    "\n",
    "### Explore Individual Variables"
   ]
  },
  {
   "cell_type": "code",
   "execution_count": 154,
   "metadata": {},
   "outputs": [
    {
     "data": {
      "image/png": "[encoded data removed]",
      "text/plain": [
       "<matplotlib.figure.Figure at 0x7f5dbd1aec50>"
      ]
     },
     "metadata": {},
     "output_type": "display_data"
    }
   ],
   "source": [
    "#view histograms for all numerical columns in the dataset\n",
    "df.hist(figsize= (10,10));"
   ]
  },
  {
   "cell_type": "markdown",
   "metadata": {},
   "source": [
    "## Q1  How do the number of movies in each genre change over time?\n",
    "\n",
    "First let's explore the values structure in the **genres** column"
   ]
  },
  {
   "cell_type": "code",
   "execution_count": 155,
   "metadata": {
    "scrolled": false
   },
   "outputs": [
    {
     "data": {
      "text/plain": [
       "0    Action|Adventure|Science Fiction|Thriller\n",
       "1    Action|Adventure|Science Fiction|Thriller\n",
       "2           Adventure|Science Fiction|Thriller\n",
       "3     Action|Adventure|Science Fiction|Fantasy\n",
       "4                        Action|Crime|Thriller\n",
       "5             Western|Drama|Adventure|Thriller\n",
       "6    Science Fiction|Action|Thriller|Adventure\n",
       "7              Drama|Adventure|Science Fiction\n",
       "8            Family|Animation|Adventure|Comedy\n",
       "9                      Comedy|Animation|Family\n",
       "Name: genres, dtype: object"
      ]
     },
     "execution_count": 155,
     "metadata": {},
     "output_type": "execute_result"
    }
   ],
   "source": [
    "df.genres.head(10)"
   ]
  },
  {
   "cell_type": "markdown",
   "metadata": {},
   "source": [
    "It turned out that all entries in the genres column contain multiple values separated by pipe (|) characters. \n",
    "So first each value must be stored in a separate column. This will be done using the string split function and storing the result in a new dataframe that will only hold the genres columns. Then merge it to the original dataframe and drop the original genres column"
   ]
  },
  {
   "cell_type": "code",
   "execution_count": 156,
   "metadata": {
    "scrolled": true
   },
   "outputs": [
    {
     "data": {
      "text/html": [
       "<div>\n",
       "<style>\n",
       "    .dataframe thead tr:only-child th {\n",
       "        text-align: right;\n",
       "    }\n",
       "\n",
       "    .dataframe thead th {\n",
       "        text-align: left;\n",
       "    }\n",
       "\n",
       "    .dataframe tbody tr th {\n",
       "        vertical-align: top;\n",
       "    }\n",
       "</style>\n",
       "<table border=\"1\" class=\"dataframe\">\n",
       "  <thead>\n",
       "    <tr style=\"text-align: right;\">\n",
       "      <th></th>\n",
       "      <th>0</th>\n",
       "      <th>1</th>\n",
       "      <th>2</th>\n",
       "      <th>3</th>\n",
       "      <th>4</th>\n",
       "    </tr>\n",
       "  </thead>\n",
       "  <tbody>\n",
       "    <tr>\n",
       "      <th>0</th>\n",
       "      <td>Action</td>\n",
       "      <td>Adventure</td>\n",
       "      <td>Science Fiction</td>\n",
       "      <td>Thriller</td>\n",
       "      <td>None</td>\n",
       "    </tr>\n",
       "    <tr>\n",
       "      <th>1</th>\n",
       "      <td>Action</td>\n",
       "      <td>Adventure</td>\n",
       "      <td>Science Fiction</td>\n",
       "      <td>Thriller</td>\n",
       "      <td>None</td>\n",
       "    </tr>\n",
       "  </tbody>\n",
       "</table>\n",
       "</div>"
      ],
      "text/plain": [
       "        0          1                2         3     4\n",
       "0  Action  Adventure  Science Fiction  Thriller  None\n",
       "1  Action  Adventure  Science Fiction  Thriller  None"
      ]
     },
     "execution_count": 156,
     "metadata": {},
     "output_type": "execute_result"
    }
   ],
   "source": [
    "#split genres column by the pipe (|) characters and store the new genres columns in a separate dataframe\n",
    "genres = df['genres'].str.split('|',expand = True)\n",
    "genres.head(2)"
   ]
  },
  {
   "cell_type": "code",
   "execution_count": 157,
   "metadata": {},
   "outputs": [
    {
     "data": {
      "text/html": [
       "<div>\n",
       "<style>\n",
       "    .dataframe thead tr:only-child th {\n",
       "        text-align: right;\n",
       "    }\n",
       "\n",
       "    .dataframe thead th {\n",
       "        text-align: left;\n",
       "    }\n",
       "\n",
       "    .dataframe tbody tr th {\n",
       "        vertical-align: top;\n",
       "    }\n",
       "</style>\n",
       "<table border=\"1\" class=\"dataframe\">\n",
       "  <thead>\n",
       "    <tr style=\"text-align: right;\">\n",
       "      <th></th>\n",
       "      <th>genre_1</th>\n",
       "      <th>genre_2</th>\n",
       "      <th>genre_3</th>\n",
       "      <th>genre_4</th>\n",
       "      <th>genre_5</th>\n",
       "    </tr>\n",
       "  </thead>\n",
       "  <tbody>\n",
       "    <tr>\n",
       "      <th>0</th>\n",
       "      <td>Action</td>\n",
       "      <td>Adventure</td>\n",
       "      <td>Science Fiction</td>\n",
       "      <td>Thriller</td>\n",
       "      <td>None</td>\n",
       "    </tr>\n",
       "    <tr>\n",
       "      <th>1</th>\n",
       "      <td>Action</td>\n",
       "      <td>Adventure</td>\n",
       "      <td>Science Fiction</td>\n",
       "      <td>Thriller</td>\n",
       "      <td>None</td>\n",
       "    </tr>\n",
       "  </tbody>\n",
       "</table>\n",
       "</div>"
      ],
      "text/plain": [
       "  genre_1    genre_2          genre_3   genre_4 genre_5\n",
       "0  Action  Adventure  Science Fiction  Thriller    None\n",
       "1  Action  Adventure  Science Fiction  Thriller    None"
      ]
     },
     "execution_count": 157,
     "metadata": {},
     "output_type": "execute_result"
    }
   ],
   "source": [
    "#rename the columns of the new genres dataframe \n",
    "genres.rename(columns = lambda x: 'genre_'+str(x+1), inplace=True)\n",
    "genres.head(2)"
   ]
  },
  {
   "cell_type": "code",
   "execution_count": 158,
   "metadata": {},
   "outputs": [
    {
     "data": {
      "text/html": [
       "<div>\n",
       "<style>\n",
       "    .dataframe thead tr:only-child th {\n",
       "        text-align: right;\n",
       "    }\n",
       "\n",
       "    .dataframe thead th {\n",
       "        text-align: left;\n",
       "    }\n",
       "\n",
       "    .dataframe tbody tr th {\n",
       "        vertical-align: top;\n",
       "    }\n",
       "</style>\n",
       "<table border=\"1\" class=\"dataframe\">\n",
       "  <thead>\n",
       "    <tr style=\"text-align: right;\">\n",
       "      <th></th>\n",
       "      <th>id</th>\n",
       "      <th>runtime</th>\n",
       "      <th>genres</th>\n",
       "      <th>release_date</th>\n",
       "      <th>vote_average</th>\n",
       "      <th>release_year</th>\n",
       "      <th>budget_adj</th>\n",
       "      <th>revenue_adj</th>\n",
       "      <th>genre_1</th>\n",
       "      <th>genre_2</th>\n",
       "      <th>genre_3</th>\n",
       "      <th>genre_4</th>\n",
       "      <th>genre_5</th>\n",
       "    </tr>\n",
       "  </thead>\n",
       "  <tbody>\n",
       "    <tr>\n",
       "      <th>0</th>\n",
       "      <td>135397</td>\n",
       "      <td>124.0</td>\n",
       "      <td>Action|Adventure|Science Fiction|Thriller</td>\n",
       "      <td>2015-06-09</td>\n",
       "      <td>6.5</td>\n",
       "      <td>2015</td>\n",
       "      <td>1.379999e+08</td>\n",
       "      <td>1.392446e+09</td>\n",
       "      <td>Action</td>\n",
       "      <td>Adventure</td>\n",
       "      <td>Science Fiction</td>\n",
       "      <td>Thriller</td>\n",
       "      <td>None</td>\n",
       "    </tr>\n",
       "    <tr>\n",
       "      <th>1</th>\n",
       "      <td>76341</td>\n",
       "      <td>120.0</td>\n",
       "      <td>Action|Adventure|Science Fiction|Thriller</td>\n",
       "      <td>2015-05-13</td>\n",
       "      <td>7.1</td>\n",
       "      <td>2015</td>\n",
       "      <td>1.379999e+08</td>\n",
       "      <td>3.481613e+08</td>\n",
       "      <td>Action</td>\n",
       "      <td>Adventure</td>\n",
       "      <td>Science Fiction</td>\n",
       "      <td>Thriller</td>\n",
       "      <td>None</td>\n",
       "    </tr>\n",
       "  </tbody>\n",
       "</table>\n",
       "</div>"
      ],
      "text/plain": [
       "       id  runtime                                     genres release_date  \\\n",
       "0  135397    124.0  Action|Adventure|Science Fiction|Thriller   2015-06-09   \n",
       "1   76341    120.0  Action|Adventure|Science Fiction|Thriller   2015-05-13   \n",
       "\n",
       "   vote_average  release_year    budget_adj   revenue_adj genre_1    genre_2  \\\n",
       "0           6.5          2015  1.379999e+08  1.392446e+09  Action  Adventure   \n",
       "1           7.1          2015  1.379999e+08  3.481613e+08  Action  Adventure   \n",
       "\n",
       "           genre_3   genre_4 genre_5  \n",
       "0  Science Fiction  Thriller    None  \n",
       "1  Science Fiction  Thriller    None  "
      ]
     },
     "execution_count": 158,
     "metadata": {},
     "output_type": "execute_result"
    }
   ],
   "source": [
    "#merge genres dataframe to the original dataframe\n",
    "df = df.merge(genres, left_index = True , right_index = True)\n",
    "df.head(2)"
   ]
  },
  {
   "cell_type": "code",
   "execution_count": 159,
   "metadata": {},
   "outputs": [
    {
     "data": {
      "text/html": [
       "<div>\n",
       "<style>\n",
       "    .dataframe thead tr:only-child th {\n",
       "        text-align: right;\n",
       "    }\n",
       "\n",
       "    .dataframe thead th {\n",
       "        text-align: left;\n",
       "    }\n",
       "\n",
       "    .dataframe tbody tr th {\n",
       "        vertical-align: top;\n",
       "    }\n",
       "</style>\n",
       "<table border=\"1\" class=\"dataframe\">\n",
       "  <thead>\n",
       "    <tr style=\"text-align: right;\">\n",
       "      <th></th>\n",
       "      <th>id</th>\n",
       "      <th>runtime</th>\n",
       "      <th>release_date</th>\n",
       "      <th>vote_average</th>\n",
       "      <th>release_year</th>\n",
       "      <th>budget_adj</th>\n",
       "      <th>revenue_adj</th>\n",
       "      <th>genre_1</th>\n",
       "      <th>genre_2</th>\n",
       "      <th>genre_3</th>\n",
       "      <th>genre_4</th>\n",
       "      <th>genre_5</th>\n",
       "    </tr>\n",
       "  </thead>\n",
       "  <tbody>\n",
       "    <tr>\n",
       "      <th>0</th>\n",
       "      <td>135397</td>\n",
       "      <td>124.0</td>\n",
       "      <td>2015-06-09</td>\n",
       "      <td>6.5</td>\n",
       "      <td>2015</td>\n",
       "      <td>1.379999e+08</td>\n",
       "      <td>1.392446e+09</td>\n",
       "      <td>Action</td>\n",
       "      <td>Adventure</td>\n",
       "      <td>Science Fiction</td>\n",
       "      <td>Thriller</td>\n",
       "      <td>None</td>\n",
       "    </tr>\n",
       "    <tr>\n",
       "      <th>1</th>\n",
       "      <td>76341</td>\n",
       "      <td>120.0</td>\n",
       "      <td>2015-05-13</td>\n",
       "      <td>7.1</td>\n",
       "      <td>2015</td>\n",
       "      <td>1.379999e+08</td>\n",
       "      <td>3.481613e+08</td>\n",
       "      <td>Action</td>\n",
       "      <td>Adventure</td>\n",
       "      <td>Science Fiction</td>\n",
       "      <td>Thriller</td>\n",
       "      <td>None</td>\n",
       "    </tr>\n",
       "  </tbody>\n",
       "</table>\n",
       "</div>"
      ],
      "text/plain": [
       "       id  runtime release_date  vote_average  release_year    budget_adj  \\\n",
       "0  135397    124.0   2015-06-09           6.5          2015  1.379999e+08   \n",
       "1   76341    120.0   2015-05-13           7.1          2015  1.379999e+08   \n",
       "\n",
       "    revenue_adj genre_1    genre_2          genre_3   genre_4 genre_5  \n",
       "0  1.392446e+09  Action  Adventure  Science Fiction  Thriller    None  \n",
       "1  3.481613e+08  Action  Adventure  Science Fiction  Thriller    None  "
      ]
     },
     "execution_count": 159,
     "metadata": {},
     "output_type": "execute_result"
    }
   ],
   "source": [
    "#drop the original genres column\n",
    "df.drop('genres', axis = 1, inplace = True)\n",
    "df.head(2)"
   ]
  },
  {
   "cell_type": "markdown",
   "metadata": {},
   "source": [
    "After organizing the genres in separate columns, I'll create a new dataframe with only the release year and genres columns in order to count the number of movies per genre for each year."
   ]
  },
  {
   "cell_type": "code",
   "execution_count": 160,
   "metadata": {},
   "outputs": [
    {
     "data": {
      "text/html": [
       "<div>\n",
       "<style>\n",
       "    .dataframe thead tr:only-child th {\n",
       "        text-align: right;\n",
       "    }\n",
       "\n",
       "    .dataframe thead th {\n",
       "        text-align: left;\n",
       "    }\n",
       "\n",
       "    .dataframe tbody tr th {\n",
       "        vertical-align: top;\n",
       "    }\n",
       "</style>\n",
       "<table border=\"1\" class=\"dataframe\">\n",
       "  <thead>\n",
       "    <tr style=\"text-align: right;\">\n",
       "      <th></th>\n",
       "      <th>release_year</th>\n",
       "      <th>genre_1</th>\n",
       "      <th>genre_2</th>\n",
       "      <th>genre_3</th>\n",
       "      <th>genre_4</th>\n",
       "      <th>genre_5</th>\n",
       "    </tr>\n",
       "  </thead>\n",
       "  <tbody>\n",
       "    <tr>\n",
       "      <th>0</th>\n",
       "      <td>2015</td>\n",
       "      <td>Action</td>\n",
       "      <td>Adventure</td>\n",
       "      <td>Science Fiction</td>\n",
       "      <td>Thriller</td>\n",
       "      <td>None</td>\n",
       "    </tr>\n",
       "    <tr>\n",
       "      <th>1</th>\n",
       "      <td>2015</td>\n",
       "      <td>Action</td>\n",
       "      <td>Adventure</td>\n",
       "      <td>Science Fiction</td>\n",
       "      <td>Thriller</td>\n",
       "      <td>None</td>\n",
       "    </tr>\n",
       "  </tbody>\n",
       "</table>\n",
       "</div>"
      ],
      "text/plain": [
       "   release_year genre_1    genre_2          genre_3   genre_4 genre_5\n",
       "0          2015  Action  Adventure  Science Fiction  Thriller    None\n",
       "1          2015  Action  Adventure  Science Fiction  Thriller    None"
      ]
     },
     "execution_count": 160,
     "metadata": {},
     "output_type": "execute_result"
    }
   ],
   "source": [
    "#get the loocation of release_year column\n",
    "year_loc = df.columns.get_loc('release_year')\n",
    "\n",
    "#get the location of the first genre column\n",
    "genre_loc = df.columns.get_loc('genre_1')\n",
    "\n",
    "#create a new dataframe with only the release year and genres columns\n",
    "genres_df = df.iloc[:,np.r_[year_loc : year_loc + 1, genre_loc : genre_loc + 5]]\n",
    "genres_df.head(2)"
   ]
  },
  {
   "cell_type": "code",
   "execution_count": 161,
   "metadata": {},
   "outputs": [
    {
     "data": {
      "text/html": [
       "<div>\n",
       "<style>\n",
       "    .dataframe thead tr:only-child th {\n",
       "        text-align: right;\n",
       "    }\n",
       "\n",
       "    .dataframe thead th {\n",
       "        text-align: left;\n",
       "    }\n",
       "\n",
       "    .dataframe tbody tr th {\n",
       "        vertical-align: top;\n",
       "    }\n",
       "</style>\n",
       "<table border=\"1\" class=\"dataframe\">\n",
       "  <thead>\n",
       "    <tr style=\"text-align: right;\">\n",
       "      <th></th>\n",
       "      <th>release_year</th>\n",
       "      <th>genre_groups</th>\n",
       "      <th>genre</th>\n",
       "    </tr>\n",
       "  </thead>\n",
       "  <tbody>\n",
       "    <tr>\n",
       "      <th>0</th>\n",
       "      <td>2015</td>\n",
       "      <td>genre_1</td>\n",
       "      <td>Action</td>\n",
       "    </tr>\n",
       "    <tr>\n",
       "      <th>1</th>\n",
       "      <td>2015</td>\n",
       "      <td>genre_1</td>\n",
       "      <td>Action</td>\n",
       "    </tr>\n",
       "    <tr>\n",
       "      <th>2</th>\n",
       "      <td>2015</td>\n",
       "      <td>genre_1</td>\n",
       "      <td>Adventure</td>\n",
       "    </tr>\n",
       "    <tr>\n",
       "      <th>3</th>\n",
       "      <td>2015</td>\n",
       "      <td>genre_1</td>\n",
       "      <td>Action</td>\n",
       "    </tr>\n",
       "    <tr>\n",
       "      <th>4</th>\n",
       "      <td>2015</td>\n",
       "      <td>genre_1</td>\n",
       "      <td>Action</td>\n",
       "    </tr>\n",
       "  </tbody>\n",
       "</table>\n",
       "</div>"
      ],
      "text/plain": [
       "   release_year genre_groups      genre\n",
       "0          2015      genre_1     Action\n",
       "1          2015      genre_1     Action\n",
       "2          2015      genre_1  Adventure\n",
       "3          2015      genre_1     Action\n",
       "4          2015      genre_1     Action"
      ]
     },
     "execution_count": 161,
     "metadata": {},
     "output_type": "execute_result"
    }
   ],
   "source": [
    "#unpivots the genres dataframe from wide format to long format\n",
    "genres_df = pd.melt(genres_df, id_vars = ['release_year'], var_name = 'genre_groups', value_name = 'genre')\n",
    "genres_df.head()"
   ]
  },
  {
   "cell_type": "code",
   "execution_count": 162,
   "metadata": {
    "scrolled": false
   },
   "outputs": [
    {
     "data": {
      "text/html": [
       "<div>\n",
       "<style>\n",
       "    .dataframe thead tr:only-child th {\n",
       "        text-align: right;\n",
       "    }\n",
       "\n",
       "    .dataframe thead th {\n",
       "        text-align: left;\n",
       "    }\n",
       "\n",
       "    .dataframe tbody tr th {\n",
       "        vertical-align: top;\n",
       "    }\n",
       "</style>\n",
       "<table border=\"1\" class=\"dataframe\">\n",
       "  <thead>\n",
       "    <tr style=\"text-align: right;\">\n",
       "      <th></th>\n",
       "      <th>genre_groups</th>\n",
       "      <th>genre_1</th>\n",
       "      <th>genre_2</th>\n",
       "      <th>genre_3</th>\n",
       "      <th>genre_4</th>\n",
       "      <th>genre_5</th>\n",
       "      <th>All</th>\n",
       "    </tr>\n",
       "    <tr>\n",
       "      <th>release_year</th>\n",
       "      <th>genre</th>\n",
       "      <th></th>\n",
       "      <th></th>\n",
       "      <th></th>\n",
       "      <th></th>\n",
       "      <th></th>\n",
       "      <th></th>\n",
       "    </tr>\n",
       "  </thead>\n",
       "  <tbody>\n",
       "    <tr>\n",
       "      <th rowspan=\"10\" valign=\"top\">1960</th>\n",
       "      <th>Action</th>\n",
       "      <td>8</td>\n",
       "      <td>0</td>\n",
       "      <td>0</td>\n",
       "      <td>0</td>\n",
       "      <td>0</td>\n",
       "      <td>8</td>\n",
       "    </tr>\n",
       "    <tr>\n",
       "      <th>Adventure</th>\n",
       "      <td>2</td>\n",
       "      <td>3</td>\n",
       "      <td>0</td>\n",
       "      <td>0</td>\n",
       "      <td>0</td>\n",
       "      <td>5</td>\n",
       "    </tr>\n",
       "    <tr>\n",
       "      <th>Comedy</th>\n",
       "      <td>7</td>\n",
       "      <td>0</td>\n",
       "      <td>1</td>\n",
       "      <td>0</td>\n",
       "      <td>0</td>\n",
       "      <td>8</td>\n",
       "    </tr>\n",
       "    <tr>\n",
       "      <th>Crime</th>\n",
       "      <td>1</td>\n",
       "      <td>0</td>\n",
       "      <td>0</td>\n",
       "      <td>1</td>\n",
       "      <td>0</td>\n",
       "      <td>2</td>\n",
       "    </tr>\n",
       "    <tr>\n",
       "      <th>Drama</th>\n",
       "      <td>5</td>\n",
       "      <td>7</td>\n",
       "      <td>1</td>\n",
       "      <td>0</td>\n",
       "      <td>0</td>\n",
       "      <td>13</td>\n",
       "    </tr>\n",
       "    <tr>\n",
       "      <th>Family</th>\n",
       "      <td>0</td>\n",
       "      <td>3</td>\n",
       "      <td>0</td>\n",
       "      <td>0</td>\n",
       "      <td>0</td>\n",
       "      <td>3</td>\n",
       "    </tr>\n",
       "    <tr>\n",
       "      <th>Fantasy</th>\n",
       "      <td>0</td>\n",
       "      <td>1</td>\n",
       "      <td>1</td>\n",
       "      <td>0</td>\n",
       "      <td>0</td>\n",
       "      <td>2</td>\n",
       "    </tr>\n",
       "    <tr>\n",
       "      <th>Foreign</th>\n",
       "      <td>0</td>\n",
       "      <td>0</td>\n",
       "      <td>1</td>\n",
       "      <td>0</td>\n",
       "      <td>0</td>\n",
       "      <td>1</td>\n",
       "    </tr>\n",
       "    <tr>\n",
       "      <th>History</th>\n",
       "      <td>0</td>\n",
       "      <td>1</td>\n",
       "      <td>2</td>\n",
       "      <td>2</td>\n",
       "      <td>0</td>\n",
       "      <td>5</td>\n",
       "    </tr>\n",
       "    <tr>\n",
       "      <th>Horror</th>\n",
       "      <td>6</td>\n",
       "      <td>1</td>\n",
       "      <td>0</td>\n",
       "      <td>0</td>\n",
       "      <td>0</td>\n",
       "      <td>7</td>\n",
       "    </tr>\n",
       "  </tbody>\n",
       "</table>\n",
       "</div>"
      ],
      "text/plain": [
       "genre_groups            genre_1  genre_2  genre_3  genre_4  genre_5  All\n",
       "release_year genre                                                      \n",
       "1960         Action           8        0        0        0        0    8\n",
       "             Adventure        2        3        0        0        0    5\n",
       "             Comedy           7        0        1        0        0    8\n",
       "             Crime            1        0        0        1        0    2\n",
       "             Drama            5        7        1        0        0   13\n",
       "             Family           0        3        0        0        0    3\n",
       "             Fantasy          0        1        1        0        0    2\n",
       "             Foreign          0        0        1        0        0    1\n",
       "             History          0        1        2        2        0    5\n",
       "             Horror           6        1        0        0        0    7"
      ]
     },
     "execution_count": 162,
     "metadata": {},
     "output_type": "execute_result"
    }
   ],
   "source": [
    "#group the genres by type and count the number of movies in each genres \n",
    "genres_df = pd.crosstab([genres_df.release_year, genres_df.genre], genres_df.genre_groups, margins=True)\n",
    "genres_df.head(10)"
   ]
  },
  {
   "cell_type": "markdown",
   "metadata": {},
   "source": [
    "Now I'll select three years in different time periods to see how the number of movies is changing among these years. \n",
    "\n",
    "First let's display the descriptive statistics for the release year column"
   ]
  },
  {
   "cell_type": "code",
   "execution_count": 163,
   "metadata": {
    "scrolled": true
   },
   "outputs": [
    {
     "data": {
      "text/plain": [
       "count    10842.000000\n",
       "mean      2001.314794\n",
       "std         12.813617\n",
       "min       1960.000000\n",
       "25%       1995.000000\n",
       "50%       2006.000000\n",
       "75%       2011.000000\n",
       "max       2015.000000\n",
       "Name: release_year, dtype: float64"
      ]
     },
     "execution_count": 163,
     "metadata": {},
     "output_type": "execute_result"
    }
   ],
   "source": [
    "#display the descriptive statistics for release_year columns \n",
    "df['release_year'].describe()"
   ]
  },
  {
   "cell_type": "markdown",
   "metadata": {},
   "source": [
    "From this result, we can find that the maximum year is 2015 and the median year 2006, almost 10 years differance.\n",
    "So I decided to select the most recent three years with 10 years differance between them. Which leaves us with 1995, 2005, 2015  \n",
    "\n",
    "Now I'll create three separate dataframes with the movies count per genre for each one of these three years "
   ]
  },
  {
   "cell_type": "code",
   "execution_count": 164,
   "metadata": {
    "scrolled": true
   },
   "outputs": [],
   "source": [
    "def create_df(year):\n",
    "    \"\"\"\n",
    "    This function creates and returns a dataframe with genres counts for the given year\n",
    "\n",
    "    \"\"\"\n",
    "    \n",
    "    #to safely disable the SettingWithCopyWarning\n",
    "    pd.options.mode.chained_assignment = None  \n",
    "    \n",
    "    #create a new dataframe with information for the given year\n",
    "    new_df = genres_df.query('release_year == {}'.format(year))\n",
    "    \n",
    "    #remove release_year index and keep the genre names as the only index\n",
    "    new_df.index = new_df.index.get_level_values('genre')\n",
    "    \n",
    "    #drop the individual genre columns counts and keep only the total column\n",
    "    new_df.drop(['genre_1', 'genre_2', 'genre_3', 'genre_4', 'genre_5'], axis = 1 , inplace = True)\n",
    "    \n",
    "    \n",
    "    #return the created dataframe\n",
    "    return new_df"
   ]
  },
  {
   "cell_type": "code",
   "execution_count": 165,
   "metadata": {},
   "outputs": [
    {
     "data": {
      "text/plain": [
       "(19, 1)"
      ]
     },
     "execution_count": 165,
     "metadata": {},
     "output_type": "execute_result"
    }
   ],
   "source": [
    "#call the helper function to create a dataframe with genres counts for the year 1995\n",
    "df_year1 = create_df(1995)\n",
    "\n",
    "#display the dimensions of the dataframe\n",
    "df_year1.shape"
   ]
  },
  {
   "cell_type": "code",
   "execution_count": 166,
   "metadata": {},
   "outputs": [
    {
     "data": {
      "text/plain": [
       "(20, 1)"
      ]
     },
     "execution_count": 166,
     "metadata": {},
     "output_type": "execute_result"
    }
   ],
   "source": [
    "#call the helper function to create a dataframe with genres counts for the year 2005\n",
    "df_year2 = create_df(2005)\n",
    "\n",
    "#display the dimensions of the dataframe\n",
    "df_year2.shape"
   ]
  },
  {
   "cell_type": "code",
   "execution_count": 167,
   "metadata": {},
   "outputs": [
    {
     "data": {
      "text/plain": [
       "(19, 1)"
      ]
     },
     "execution_count": 167,
     "metadata": {},
     "output_type": "execute_result"
    }
   ],
   "source": [
    "#call the helper function to create a dataframe with genres counts for the year 2015\n",
    "df_year3 = create_df(2015)\n",
    "\n",
    "#display the dimensions of the dataframe\n",
    "df_year3.shape"
   ]
  },
  {
   "cell_type": "markdown",
   "metadata": {},
   "source": [
    "By looking at the three new dataframes dimensions we find that the 2005 dataframe has 20 rows while both 1995 and 2015 have 19 rows, which means that there are some genres in 2005 which are not there in 1995 and 2015. To solve this problem I'll merge both of these dataframes with 2005 dataframe separately and create rows for the missed genres with the total 0 for the movies count. The type of merge will be left in order to find the genres in 1995 and 2015 with null values.\n",
    "\n",
    "But first, we have to understand the structure of the dataframes before and after merging in order to know how to keep their structures consistent."
   ]
  },
  {
   "cell_type": "code",
   "execution_count": 168,
   "metadata": {},
   "outputs": [
    {
     "data": {
      "text/html": [
       "<div>\n",
       "<style>\n",
       "    .dataframe thead tr:only-child th {\n",
       "        text-align: right;\n",
       "    }\n",
       "\n",
       "    .dataframe thead th {\n",
       "        text-align: left;\n",
       "    }\n",
       "\n",
       "    .dataframe tbody tr th {\n",
       "        vertical-align: top;\n",
       "    }\n",
       "</style>\n",
       "<table border=\"1\" class=\"dataframe\">\n",
       "  <thead>\n",
       "    <tr style=\"text-align: right;\">\n",
       "      <th>genre_groups</th>\n",
       "      <th>All</th>\n",
       "    </tr>\n",
       "    <tr>\n",
       "      <th>genre</th>\n",
       "      <th></th>\n",
       "    </tr>\n",
       "  </thead>\n",
       "  <tbody>\n",
       "    <tr>\n",
       "      <th>Action</th>\n",
       "      <td>70</td>\n",
       "    </tr>\n",
       "    <tr>\n",
       "      <th>Adventure</th>\n",
       "      <td>53</td>\n",
       "    </tr>\n",
       "    <tr>\n",
       "      <th>Animation</th>\n",
       "      <td>26</td>\n",
       "    </tr>\n",
       "    <tr>\n",
       "      <th>Comedy</th>\n",
       "      <td>143</td>\n",
       "    </tr>\n",
       "    <tr>\n",
       "      <th>Crime</th>\n",
       "      <td>45</td>\n",
       "    </tr>\n",
       "    <tr>\n",
       "      <th>Documentary</th>\n",
       "      <td>17</td>\n",
       "    </tr>\n",
       "    <tr>\n",
       "      <th>Drama</th>\n",
       "      <td>182</td>\n",
       "    </tr>\n",
       "    <tr>\n",
       "      <th>Family</th>\n",
       "      <td>57</td>\n",
       "    </tr>\n",
       "    <tr>\n",
       "      <th>Fantasy</th>\n",
       "      <td>35</td>\n",
       "    </tr>\n",
       "    <tr>\n",
       "      <th>Foreign</th>\n",
       "      <td>10</td>\n",
       "    </tr>\n",
       "    <tr>\n",
       "      <th>History</th>\n",
       "      <td>10</td>\n",
       "    </tr>\n",
       "    <tr>\n",
       "      <th>Horror</th>\n",
       "      <td>56</td>\n",
       "    </tr>\n",
       "    <tr>\n",
       "      <th>Music</th>\n",
       "      <td>13</td>\n",
       "    </tr>\n",
       "    <tr>\n",
       "      <th>Mystery</th>\n",
       "      <td>29</td>\n",
       "    </tr>\n",
       "    <tr>\n",
       "      <th>Romance</th>\n",
       "      <td>62</td>\n",
       "    </tr>\n",
       "    <tr>\n",
       "      <th>Science Fiction</th>\n",
       "      <td>25</td>\n",
       "    </tr>\n",
       "    <tr>\n",
       "      <th>TV Movie</th>\n",
       "      <td>3</td>\n",
       "    </tr>\n",
       "    <tr>\n",
       "      <th>Thriller</th>\n",
       "      <td>92</td>\n",
       "    </tr>\n",
       "    <tr>\n",
       "      <th>War</th>\n",
       "      <td>5</td>\n",
       "    </tr>\n",
       "    <tr>\n",
       "      <th>Western</th>\n",
       "      <td>2</td>\n",
       "    </tr>\n",
       "  </tbody>\n",
       "</table>\n",
       "</div>"
      ],
      "text/plain": [
       "genre_groups     All\n",
       "genre               \n",
       "Action            70\n",
       "Adventure         53\n",
       "Animation         26\n",
       "Comedy           143\n",
       "Crime             45\n",
       "Documentary       17\n",
       "Drama            182\n",
       "Family            57\n",
       "Fantasy           35\n",
       "Foreign           10\n",
       "History           10\n",
       "Horror            56\n",
       "Music             13\n",
       "Mystery           29\n",
       "Romance           62\n",
       "Science Fiction   25\n",
       "TV Movie           3\n",
       "Thriller          92\n",
       "War                5\n",
       "Western            2"
      ]
     },
     "execution_count": 168,
     "metadata": {},
     "output_type": "execute_result"
    }
   ],
   "source": [
    "#display 2005 dataframe\n",
    "df_year2"
   ]
  },
  {
   "cell_type": "code",
   "execution_count": 169,
   "metadata": {
    "scrolled": false
   },
   "outputs": [
    {
     "data": {
      "text/html": [
       "<div>\n",
       "<style>\n",
       "    .dataframe thead tr:only-child th {\n",
       "        text-align: right;\n",
       "    }\n",
       "\n",
       "    .dataframe thead th {\n",
       "        text-align: left;\n",
       "    }\n",
       "\n",
       "    .dataframe tbody tr th {\n",
       "        vertical-align: top;\n",
       "    }\n",
       "</style>\n",
       "<table border=\"1\" class=\"dataframe\">\n",
       "  <thead>\n",
       "    <tr style=\"text-align: right;\">\n",
       "      <th>genre_groups</th>\n",
       "      <th>All_x</th>\n",
       "      <th>All_y</th>\n",
       "    </tr>\n",
       "    <tr>\n",
       "      <th>genre</th>\n",
       "      <th></th>\n",
       "      <th></th>\n",
       "    </tr>\n",
       "  </thead>\n",
       "  <tbody>\n",
       "    <tr>\n",
       "      <th>Action</th>\n",
       "      <td>47</td>\n",
       "      <td>107.0</td>\n",
       "    </tr>\n",
       "    <tr>\n",
       "      <th>Adventure</th>\n",
       "      <td>32</td>\n",
       "      <td>69.0</td>\n",
       "    </tr>\n",
       "    <tr>\n",
       "      <th>Animation</th>\n",
       "      <td>7</td>\n",
       "      <td>39.0</td>\n",
       "    </tr>\n",
       "    <tr>\n",
       "      <th>Comedy</th>\n",
       "      <td>63</td>\n",
       "      <td>162.0</td>\n",
       "    </tr>\n",
       "    <tr>\n",
       "      <th>Crime</th>\n",
       "      <td>31</td>\n",
       "      <td>51.0</td>\n",
       "    </tr>\n",
       "    <tr>\n",
       "      <th>Documentary</th>\n",
       "      <td>2</td>\n",
       "      <td>57.0</td>\n",
       "    </tr>\n",
       "    <tr>\n",
       "      <th>Drama</th>\n",
       "      <td>93</td>\n",
       "      <td>260.0</td>\n",
       "    </tr>\n",
       "    <tr>\n",
       "      <th>Family</th>\n",
       "      <td>33</td>\n",
       "      <td>44.0</td>\n",
       "    </tr>\n",
       "    <tr>\n",
       "      <th>Fantasy</th>\n",
       "      <td>17</td>\n",
       "      <td>33.0</td>\n",
       "    </tr>\n",
       "    <tr>\n",
       "      <th>Foreign</th>\n",
       "      <td>2</td>\n",
       "      <td>NaN</td>\n",
       "    </tr>\n",
       "    <tr>\n",
       "      <th>History</th>\n",
       "      <td>7</td>\n",
       "      <td>15.0</td>\n",
       "    </tr>\n",
       "    <tr>\n",
       "      <th>Horror</th>\n",
       "      <td>19</td>\n",
       "      <td>125.0</td>\n",
       "    </tr>\n",
       "    <tr>\n",
       "      <th>Mystery</th>\n",
       "      <td>14</td>\n",
       "      <td>42.0</td>\n",
       "    </tr>\n",
       "    <tr>\n",
       "      <th>Romance</th>\n",
       "      <td>37</td>\n",
       "      <td>57.0</td>\n",
       "    </tr>\n",
       "    <tr>\n",
       "      <th>Science Fiction</th>\n",
       "      <td>18</td>\n",
       "      <td>86.0</td>\n",
       "    </tr>\n",
       "    <tr>\n",
       "      <th>TV Movie</th>\n",
       "      <td>1</td>\n",
       "      <td>20.0</td>\n",
       "    </tr>\n",
       "    <tr>\n",
       "      <th>Thriller</th>\n",
       "      <td>49</td>\n",
       "      <td>171.0</td>\n",
       "    </tr>\n",
       "    <tr>\n",
       "      <th>War</th>\n",
       "      <td>5</td>\n",
       "      <td>9.0</td>\n",
       "    </tr>\n",
       "    <tr>\n",
       "      <th>Western</th>\n",
       "      <td>3</td>\n",
       "      <td>6.0</td>\n",
       "    </tr>\n",
       "  </tbody>\n",
       "</table>\n",
       "</div>"
      ],
      "text/plain": [
       "genre_groups     All_x  All_y\n",
       "genre                        \n",
       "Action              47  107.0\n",
       "Adventure           32   69.0\n",
       "Animation            7   39.0\n",
       "Comedy              63  162.0\n",
       "Crime               31   51.0\n",
       "Documentary          2   57.0\n",
       "Drama               93  260.0\n",
       "Family              33   44.0\n",
       "Fantasy             17   33.0\n",
       "Foreign              2    NaN\n",
       "History              7   15.0\n",
       "Horror              19  125.0\n",
       "Mystery             14   42.0\n",
       "Romance             37   57.0\n",
       "Science Fiction     18   86.0\n",
       "TV Movie             1   20.0\n",
       "Thriller            49  171.0\n",
       "War                  5    9.0\n",
       "Western              3    6.0"
      ]
     },
     "execution_count": 169,
     "metadata": {},
     "output_type": "execute_result"
    }
   ],
   "source": [
    "#merge 2005 dataframe with 1995 dataframe \n",
    "df_year1.merge(df_year3, left_index = True , right_index = True, how = 'left') "
   ]
  },
  {
   "cell_type": "markdown",
   "metadata": {},
   "source": [
    "After looking at both dataframes, here are the steps I came up with to solve the missed genres problem in the following helper function:"
   ]
  },
  {
   "cell_type": "code",
   "execution_count": 170,
   "metadata": {},
   "outputs": [],
   "source": [
    "def fix_df(defective_df, correct_df):\n",
    "    \"\"\"\n",
    "    This function solves the problem of missed genres in a dataframe\n",
    "    and returns the corrected version of the dataframe\n",
    "    \"\"\"\n",
    "    \n",
    "    #merge the two dataframe using left merge and store the result in a temporary dataframe\n",
    "    temp_df = correct_df.merge(defective_df, left_index = True , right_index = True, how = 'left')\n",
    "    \n",
    "    #drop the column which was from the correct dataframe\n",
    "    temp_df.drop(['All_x'], axis = 1 , inplace = True)\n",
    "    \n",
    "    #get the rows of the genres with null values\n",
    "    temp_df = temp_df[pd.isnull(temp_df['All_y'])]\n",
    "    \n",
    "    #filll the nulls with zeros\n",
    "    temp_df.fillna(0, inplace = True)\n",
    "    \n",
    "    #rename the column to have a consistent structure with the defective dataframe\n",
    "    temp_df.rename(columns = {'All_y':'All'}, inplace = True)\n",
    "    \n",
    "    #add the rows of the missed genres to the defective dataframe\n",
    "    defective_df = defective_df.append(temp_df)\n",
    "    \n",
    "    #sort the genres names of the defective dataframe to have consistent structure with the correct dataframe\n",
    "    defective_df.sort_index(inplace = True)\n",
    "    \n",
    "    #return the defective dataframe after correction\n",
    "    return defective_df"
   ]
  },
  {
   "cell_type": "code",
   "execution_count": 171,
   "metadata": {
    "scrolled": true
   },
   "outputs": [
    {
     "data": {
      "text/plain": [
       "(20, 1)"
      ]
     },
     "execution_count": 171,
     "metadata": {},
     "output_type": "execute_result"
    }
   ],
   "source": [
    "#call the helper function to resolve 1995 dataframe\n",
    "df_year1 = fix_df(df_year1, df_year2)\n",
    "\n",
    "#display the dimensions of the dataframe\n",
    "df_year1.shape"
   ]
  },
  {
   "cell_type": "code",
   "execution_count": 172,
   "metadata": {
    "scrolled": true
   },
   "outputs": [
    {
     "data": {
      "text/plain": [
       "(20, 1)"
      ]
     },
     "execution_count": 172,
     "metadata": {},
     "output_type": "execute_result"
    }
   ],
   "source": [
    "#call the helper function to resolve 2015 dataframe\n",
    "df_year3 = fix_df(df_year3, df_year2)\n",
    "\n",
    "#display the dimensions of the dataframe\n",
    "df_year3.shape"
   ]
  },
  {
   "cell_type": "markdown",
   "metadata": {},
   "source": [
    "Now all of the three dataframes have movies counts for the same number of genres.\n",
    "\n",
    "Before moving on and creating the visualization let's check the total number of movies in each year"
   ]
  },
  {
   "cell_type": "code",
   "execution_count": 173,
   "metadata": {},
   "outputs": [
    {
     "data": {
      "text/plain": [
       "genre_groups\n",
       "All    480.0\n",
       "dtype: float64"
      ]
     },
     "execution_count": 173,
     "metadata": {},
     "output_type": "execute_result"
    }
   ],
   "source": [
    "df_year1.sum()"
   ]
  },
  {
   "cell_type": "code",
   "execution_count": 174,
   "metadata": {},
   "outputs": [
    {
     "data": {
      "text/plain": [
       "genre_groups\n",
       "All    935\n",
       "dtype: int64"
      ]
     },
     "execution_count": 174,
     "metadata": {},
     "output_type": "execute_result"
    }
   ],
   "source": [
    "df_year2.sum()"
   ]
  },
  {
   "cell_type": "code",
   "execution_count": 175,
   "metadata": {},
   "outputs": [
    {
     "data": {
      "text/plain": [
       "genre_groups\n",
       "All    1386.0\n",
       "dtype: float64"
      ]
     },
     "execution_count": 175,
     "metadata": {},
     "output_type": "execute_result"
    }
   ],
   "source": [
    "df_year3.sum()"
   ]
  },
  {
   "cell_type": "markdown",
   "metadata": {},
   "source": [
    "Since there is a significant variation in the number of movies of each year, it would be better to use the proportions of the movies in each genre to the total number of movies instead of using the actual movies counts."
   ]
  },
  {
   "cell_type": "code",
   "execution_count": 176,
   "metadata": {},
   "outputs": [],
   "source": [
    "#get the total number of movies in each year\n",
    "year1_total = float(df_year1.sum())\n",
    "year2_total = float(df_year2.sum())\n",
    "year3_total = float(df_year3.sum())\n",
    "\n",
    "#get the proportions of each movie genres\n",
    "year1_proportions = df_year1['All'] / year1_total\n",
    "year2_proportions = df_year2['All'] / year2_total\n",
    "year3_proportions = df_year3['All'] / year3_total"
   ]
  },
  {
   "cell_type": "markdown",
   "metadata": {},
   "source": [
    "No we can create the visualization (bar chart) for answering the first question.  "
   ]
  },
  {
   "cell_type": "code",
   "execution_count": 177,
   "metadata": {},
   "outputs": [
    {
     "data": {
      "image/png": "[encoded data removed]",
      "text/plain": [
       "<matplotlib.figure.Figure at 0x7f5dc05bddd8>"
      ]
     },
     "metadata": {},
     "output_type": "display_data"
    }
   ],
   "source": [
    "#the x locations for the groups\n",
    "ind = np.arange(len(year1_proportions))  \n",
    "#width of the bars\n",
    "width = 0.25  \n",
    "\n",
    "#set the plot size\n",
    "plt.figure(figsize = (15,6))\n",
    "\n",
    "#create the plot bars\n",
    "bars_year1 = plt.bar(ind, year1_proportions, width, color='r', alpha=.7, label='1995 Movies')\n",
    "bars_year2 = plt.bar(ind + width, year2_proportions, width, color='b', alpha=.7, label='2005 Movies')\n",
    "bars_year3 = plt.bar(ind + width*2, year3_proportions, width, color='y', alpha=.7, label='2015 Movies')\n",
    "\n",
    "#set the plot title and labels\n",
    "plt.ylabel('Number of Movies')\n",
    "plt.xlabel('Movies Genres')\n",
    "plt.title('Proportion of The Number of Movies per Genres over The Years')\n",
    "\n",
    "#xtick locations\n",
    "locations = ind + width  \n",
    "#xtick labels\n",
    "labels = df_year1.index\n",
    "#rotate the xtickes\n",
    "plt.xticks(rotation=90)\n",
    "#set the xticks\n",
    "plt.xticks(locations, labels)\n",
    "\n",
    "#set the plot legend\n",
    "plt.legend();"
   ]
  },
  {
   "cell_type": "markdown",
   "metadata": {},
   "source": [
    "From the bar chart, we can find that the proportion of producing Animation, Documentary, Horror, Music, Science Fiction, Thriller, and TV movies is increasing. While the proportion of producing Action, Adventure, Comedy, Crime, Family, Fantasy, History, Romance, war and western movies is decreasing. \n",
    "As for Drama and Mystery movies, the proportion of their production is almost consistent. \n",
    "\n",
    "But if we look at the totals of each genre in general we can find that Drama movies productions are the highest followed by Comedy and Thriller, then Action and so on.\n",
    "\n",
    "Movies production companies must take into consideration these two factors (the proportion of movies in each genre, and how this proportion changes over the time) when selecting the genre of the next movie to be produced in order to be aware of the competition nature in the selected the genre. "
   ]
  },
  {
   "cell_type": "markdown",
   "metadata": {},
   "source": [
    "The next three questions are all associated with the independent variable (revenue)"
   ]
  },
  {
   "cell_type": "markdown",
   "metadata": {},
   "source": [
    "## Q2 Is there a relationship between user average votes and movies revenue?\n",
    "\n",
    "To answer this question, we will try to find the relation between the revenue (independent variable) and the user average votes (dependent variable).\n",
    "\n",
    "First let's view the information about the 5 number summary (min, 25%, 50%, 75%, max) for vote_average column and use them to create bin edges that will be used to \"cut\" the data into groups"
   ]
  },
  {
   "cell_type": "code",
   "execution_count": 178,
   "metadata": {
    "scrolled": true
   },
   "outputs": [
    {
     "data": {
      "text/plain": [
       "count    10842.000000\n",
       "mean         5.974064\n",
       "std          0.934257\n",
       "min          1.500000\n",
       "25%          5.400000\n",
       "50%          6.000000\n",
       "75%          6.600000\n",
       "max          9.200000\n",
       "Name: vote_average, dtype: float64"
      ]
     },
     "execution_count": 178,
     "metadata": {},
     "output_type": "execute_result"
    }
   ],
   "source": [
    "#display the descriptive statistics for vote_average column \n",
    "df.describe()['vote_average']"
   ]
  },
  {
   "cell_type": "code",
   "execution_count": 179,
   "metadata": {},
   "outputs": [
    {
     "data": {
      "text/html": [
       "<div>\n",
       "<style>\n",
       "    .dataframe thead tr:only-child th {\n",
       "        text-align: right;\n",
       "    }\n",
       "\n",
       "    .dataframe thead th {\n",
       "        text-align: left;\n",
       "    }\n",
       "\n",
       "    .dataframe tbody tr th {\n",
       "        vertical-align: top;\n",
       "    }\n",
       "</style>\n",
       "<table border=\"1\" class=\"dataframe\">\n",
       "  <thead>\n",
       "    <tr style=\"text-align: right;\">\n",
       "      <th></th>\n",
       "      <th>id</th>\n",
       "      <th>runtime</th>\n",
       "      <th>release_date</th>\n",
       "      <th>vote_average</th>\n",
       "      <th>release_year</th>\n",
       "      <th>budget_adj</th>\n",
       "      <th>revenue_adj</th>\n",
       "      <th>genre_1</th>\n",
       "      <th>genre_2</th>\n",
       "      <th>genre_3</th>\n",
       "      <th>genre_4</th>\n",
       "      <th>genre_5</th>\n",
       "      <th>vote_avg_group</th>\n",
       "    </tr>\n",
       "  </thead>\n",
       "  <tbody>\n",
       "    <tr>\n",
       "      <th>0</th>\n",
       "      <td>135397</td>\n",
       "      <td>124.0</td>\n",
       "      <td>2015-06-09</td>\n",
       "      <td>6.5</td>\n",
       "      <td>2015</td>\n",
       "      <td>1.379999e+08</td>\n",
       "      <td>1.392446e+09</td>\n",
       "      <td>Action</td>\n",
       "      <td>Adventure</td>\n",
       "      <td>Science Fiction</td>\n",
       "      <td>Thriller</td>\n",
       "      <td>None</td>\n",
       "      <td>6.0 to 6.6</td>\n",
       "    </tr>\n",
       "    <tr>\n",
       "      <th>1</th>\n",
       "      <td>76341</td>\n",
       "      <td>120.0</td>\n",
       "      <td>2015-05-13</td>\n",
       "      <td>7.1</td>\n",
       "      <td>2015</td>\n",
       "      <td>1.379999e+08</td>\n",
       "      <td>3.481613e+08</td>\n",
       "      <td>Action</td>\n",
       "      <td>Adventure</td>\n",
       "      <td>Science Fiction</td>\n",
       "      <td>Thriller</td>\n",
       "      <td>None</td>\n",
       "      <td>6.6 to 9.2</td>\n",
       "    </tr>\n",
       "  </tbody>\n",
       "</table>\n",
       "</div>"
      ],
      "text/plain": [
       "       id  runtime release_date  vote_average  release_year    budget_adj  \\\n",
       "0  135397    124.0   2015-06-09           6.5          2015  1.379999e+08   \n",
       "1   76341    120.0   2015-05-13           7.1          2015  1.379999e+08   \n",
       "\n",
       "    revenue_adj genre_1    genre_2          genre_3   genre_4 genre_5  \\\n",
       "0  1.392446e+09  Action  Adventure  Science Fiction  Thriller    None   \n",
       "1  3.481613e+08  Action  Adventure  Science Fiction  Thriller    None   \n",
       "\n",
       "  vote_avg_group  \n",
       "0     6.0 to 6.6  \n",
       "1     6.6 to 9.2  "
      ]
     },
     "execution_count": 179,
     "metadata": {},
     "output_type": "execute_result"
    }
   ],
   "source": [
    "#the bin edges that will be used to \"cut\" the data into groups\n",
    "votes_bin_edges = [1.5, 5.4, 6.0, 6.6, 9.2]\n",
    "\n",
    "#the labels for the vote average groups\n",
    "votes_bin_names = ['1.5 to 5.4', '5.4 to 6.0', '6.0 to 6.6', '6.6 to 9.2'] \n",
    "\n",
    "#create vote_avg_group column\n",
    "df['vote_avg_group'] = pd.cut(df['vote_average'], votes_bin_edges, labels = votes_bin_names)\n",
    "\n",
    "df.head(2)"
   ]
  },
  {
   "cell_type": "code",
   "execution_count": 180,
   "metadata": {
    "scrolled": true
   },
   "outputs": [
    {
     "data": {
      "text/plain": [
       "vote_avg_group\n",
       "1.5 to 5.4    2882\n",
       "5.4 to 6.0    2658\n",
       "6.0 to 6.6    2734\n",
       "6.6 to 9.2    2566\n",
       "Name: id, dtype: int64"
      ]
     },
     "execution_count": 180,
     "metadata": {},
     "output_type": "execute_result"
    }
   ],
   "source": [
    "#check the total number of movies in each group\n",
    "df.groupby('vote_avg_group').count()['id']"
   ]
  },
  {
   "cell_type": "markdown",
   "metadata": {},
   "source": [
    "Since the total number of movies in each group is almost the same, there is no nead to calculate the proportions. So we can go ahead and store the mean of the revenue_adj of each group in a new dataframe and use it to create the plot. "
   ]
  },
  {
   "cell_type": "code",
   "execution_count": 181,
   "metadata": {},
   "outputs": [
    {
     "data": {
      "text/plain": [
       "vote_avg_group\n",
       "1.5 to 5.4    1.476523e+11\n",
       "5.4 to 6.0    1.864070e+11\n",
       "6.0 to 6.6    2.410275e+11\n",
       "6.6 to 9.2    2.914419e+11\n",
       "Name: revenue_adj, dtype: float64"
      ]
     },
     "execution_count": 181,
     "metadata": {},
     "output_type": "execute_result"
    }
   ],
   "source": [
    "#create a new dataframe with the mean of the revenue_adj of each group\n",
    "votes_avg = df.groupby('vote_avg_group').revenue_adj.sum()\n",
    "votes_avg"
   ]
  },
  {
   "cell_type": "code",
   "execution_count": 182,
   "metadata": {
    "scrolled": false
   },
   "outputs": [
    {
     "data": {
      "image/png": "[encoded data removed]",
      "text/plain": [
       "<matplotlib.figure.Figure at 0x7f5dc0f06ba8>"
      ]
     },
     "metadata": {},
     "output_type": "display_data"
    }
   ],
   "source": [
    "#the x locations\n",
    "votes_avg_ind = np.arange(len(votes_avg))  \n",
    "\n",
    "#create the plot\n",
    "plt.plot(votes_avg_ind, votes_avg, color='r')\n",
    "\n",
    "#set the plot title and labels\n",
    "plt.ylabel('Revenue')\n",
    "plt.xlabel('Vote Average Groups')\n",
    "plt.title('Movie Votes Average vs. Revenue')\n",
    " \n",
    "#set the xtickes    \n",
    "plt.xticks(votes_avg_ind, votes_bin_names);"
   ]
  },
  {
   "cell_type": "markdown",
   "metadata": {},
   "source": [
    "From the line chart, we can find that there is a strong relastionship between user average votes and movies revenue in which higher average votes leads to higher revenue.\n",
    "\n",
    "So,movies production companies must consider this factor and foxus on producing movies that will guarantee high average votes in order to maximize their revenue "
   ]
  },
  {
   "cell_type": "markdown",
   "metadata": {},
   "source": [
    "## Q3 What runtime is associated with movies that have high revenue?\n",
    "\n",
    "To answer this question, we will try to find the relation between the revenue (independent variable) and the movie's runtime (dependant variable).\n",
    "\n",
    "First let's view the information about the 5 number summary (min, 25%, 50%, 75%, max) for runtime column and use them to create bin edges that will be used to \"cut\" the data into groups"
   ]
  },
  {
   "cell_type": "code",
   "execution_count": 183,
   "metadata": {
    "scrolled": true
   },
   "outputs": [
    {
     "data": {
      "text/plain": [
       "count    10842.000000\n",
       "mean       102.421062\n",
       "std         30.828622\n",
       "min          2.000000\n",
       "25%         90.000000\n",
       "50%         99.000000\n",
       "75%        111.000000\n",
       "max        900.000000\n",
       "Name: runtime, dtype: float64"
      ]
     },
     "execution_count": 183,
     "metadata": {},
     "output_type": "execute_result"
    }
   ],
   "source": [
    "#display the descriptive statistics for runtime column \n",
    "df.describe()['runtime']"
   ]
  },
  {
   "cell_type": "code",
   "execution_count": 184,
   "metadata": {
    "scrolled": false
   },
   "outputs": [
    {
     "data": {
      "text/html": [
       "<div>\n",
       "<style>\n",
       "    .dataframe thead tr:only-child th {\n",
       "        text-align: right;\n",
       "    }\n",
       "\n",
       "    .dataframe thead th {\n",
       "        text-align: left;\n",
       "    }\n",
       "\n",
       "    .dataframe tbody tr th {\n",
       "        vertical-align: top;\n",
       "    }\n",
       "</style>\n",
       "<table border=\"1\" class=\"dataframe\">\n",
       "  <thead>\n",
       "    <tr style=\"text-align: right;\">\n",
       "      <th></th>\n",
       "      <th>id</th>\n",
       "      <th>runtime</th>\n",
       "      <th>release_date</th>\n",
       "      <th>vote_average</th>\n",
       "      <th>release_year</th>\n",
       "      <th>budget_adj</th>\n",
       "      <th>revenue_adj</th>\n",
       "      <th>genre_1</th>\n",
       "      <th>genre_2</th>\n",
       "      <th>genre_3</th>\n",
       "      <th>genre_4</th>\n",
       "      <th>genre_5</th>\n",
       "      <th>vote_avg_group</th>\n",
       "      <th>runtime_group</th>\n",
       "    </tr>\n",
       "  </thead>\n",
       "  <tbody>\n",
       "    <tr>\n",
       "      <th>0</th>\n",
       "      <td>135397</td>\n",
       "      <td>124.0</td>\n",
       "      <td>2015-06-09</td>\n",
       "      <td>6.5</td>\n",
       "      <td>2015</td>\n",
       "      <td>1.379999e+08</td>\n",
       "      <td>1.392446e+09</td>\n",
       "      <td>Action</td>\n",
       "      <td>Adventure</td>\n",
       "      <td>Science Fiction</td>\n",
       "      <td>Thriller</td>\n",
       "      <td>None</td>\n",
       "      <td>6.0 to 6.6</td>\n",
       "      <td>2 to 4 hrs</td>\n",
       "    </tr>\n",
       "    <tr>\n",
       "      <th>1</th>\n",
       "      <td>76341</td>\n",
       "      <td>120.0</td>\n",
       "      <td>2015-05-13</td>\n",
       "      <td>7.1</td>\n",
       "      <td>2015</td>\n",
       "      <td>1.379999e+08</td>\n",
       "      <td>3.481613e+08</td>\n",
       "      <td>Action</td>\n",
       "      <td>Adventure</td>\n",
       "      <td>Science Fiction</td>\n",
       "      <td>Thriller</td>\n",
       "      <td>None</td>\n",
       "      <td>6.6 to 9.2</td>\n",
       "      <td>Less than 2 hrs</td>\n",
       "    </tr>\n",
       "  </tbody>\n",
       "</table>\n",
       "</div>"
      ],
      "text/plain": [
       "       id  runtime release_date  vote_average  release_year    budget_adj  \\\n",
       "0  135397    124.0   2015-06-09           6.5          2015  1.379999e+08   \n",
       "1   76341    120.0   2015-05-13           7.1          2015  1.379999e+08   \n",
       "\n",
       "    revenue_adj genre_1    genre_2          genre_3   genre_4 genre_5  \\\n",
       "0  1.392446e+09  Action  Adventure  Science Fiction  Thriller    None   \n",
       "1  3.481613e+08  Action  Adventure  Science Fiction  Thriller    None   \n",
       "\n",
       "  vote_avg_group    runtime_group  \n",
       "0     6.0 to 6.6       2 to 4 hrs  \n",
       "1     6.6 to 9.2  Less than 2 hrs  "
      ]
     },
     "execution_count": 184,
     "metadata": {},
     "output_type": "execute_result"
    }
   ],
   "source": [
    "#the bin edges that will be used to \"cut\" the data into groups\n",
    "runtime_bin_edges = np.arange(0,901,120)\n",
    "\n",
    "#the labels for the runtime groups\n",
    "runtime_bin_names = ['Less than 2 hrs', '2 to 4 hrs', '4 to 6 hrs', '6 to 8 hrs', '8 to 10 hrs', '10 to 12 hrs', 'More than 12 hrs'] \n",
    "\n",
    "#create runtime_group column\n",
    "df['runtime_group'] = pd.cut(df['runtime'], runtime_bin_edges, labels = runtime_bin_names)\n",
    "\n",
    "df.head(2)"
   ]
  },
  {
   "cell_type": "code",
   "execution_count": 185,
   "metadata": {
    "scrolled": true
   },
   "outputs": [
    {
     "data": {
      "text/plain": [
       "runtime_group\n",
       "Less than 2 hrs     9264\n",
       "2 to 4 hrs          1536\n",
       "4 to 6 hrs            25\n",
       "6 to 8 hrs             8\n",
       "8 to 10 hrs            6\n",
       "10 to 12 hrs           1\n",
       "More than 12 hrs       0\n",
       "Name: id, dtype: int64"
      ]
     },
     "execution_count": 185,
     "metadata": {},
     "output_type": "execute_result"
    }
   ],
   "source": [
    "#check the total number of movies in each group\n",
    "df.groupby('runtime_group').count()['id']"
   ]
  },
  {
   "cell_type": "markdown",
   "metadata": {},
   "source": [
    "There is a significant variation in the number of movies of each runtime group, and there are only few number of movies in the runtime groups greater than 4 hours compared to the groups with runtime less than 4 hours. So I'll only focus on the movies with runrime equal to 4 hours or less.   "
   ]
  },
  {
   "cell_type": "code",
   "execution_count": 186,
   "metadata": {},
   "outputs": [
    {
     "data": {
      "text/html": [
       "<div>\n",
       "<style>\n",
       "    .dataframe thead tr:only-child th {\n",
       "        text-align: right;\n",
       "    }\n",
       "\n",
       "    .dataframe thead th {\n",
       "        text-align: left;\n",
       "    }\n",
       "\n",
       "    .dataframe tbody tr th {\n",
       "        vertical-align: top;\n",
       "    }\n",
       "</style>\n",
       "<table border=\"1\" class=\"dataframe\">\n",
       "  <thead>\n",
       "    <tr style=\"text-align: right;\">\n",
       "      <th></th>\n",
       "      <th>id</th>\n",
       "      <th>runtime</th>\n",
       "      <th>release_date</th>\n",
       "      <th>vote_average</th>\n",
       "      <th>release_year</th>\n",
       "      <th>budget_adj</th>\n",
       "      <th>revenue_adj</th>\n",
       "      <th>genre_1</th>\n",
       "      <th>genre_2</th>\n",
       "      <th>genre_3</th>\n",
       "      <th>genre_4</th>\n",
       "      <th>genre_5</th>\n",
       "      <th>vote_avg_group</th>\n",
       "      <th>runtime_group</th>\n",
       "    </tr>\n",
       "  </thead>\n",
       "  <tbody>\n",
       "    <tr>\n",
       "      <th>0</th>\n",
       "      <td>135397</td>\n",
       "      <td>124.0</td>\n",
       "      <td>2015-06-09</td>\n",
       "      <td>6.5</td>\n",
       "      <td>2015</td>\n",
       "      <td>1.379999e+08</td>\n",
       "      <td>1.392446e+09</td>\n",
       "      <td>Action</td>\n",
       "      <td>Adventure</td>\n",
       "      <td>Science Fiction</td>\n",
       "      <td>Thriller</td>\n",
       "      <td>None</td>\n",
       "      <td>6.0 to 6.6</td>\n",
       "      <td>2 to 2.5 hrs</td>\n",
       "    </tr>\n",
       "    <tr>\n",
       "      <th>1</th>\n",
       "      <td>76341</td>\n",
       "      <td>120.0</td>\n",
       "      <td>2015-05-13</td>\n",
       "      <td>7.1</td>\n",
       "      <td>2015</td>\n",
       "      <td>1.379999e+08</td>\n",
       "      <td>3.481613e+08</td>\n",
       "      <td>Action</td>\n",
       "      <td>Adventure</td>\n",
       "      <td>Science Fiction</td>\n",
       "      <td>Thriller</td>\n",
       "      <td>None</td>\n",
       "      <td>6.6 to 9.2</td>\n",
       "      <td>1.5 to 2 hrs</td>\n",
       "    </tr>\n",
       "  </tbody>\n",
       "</table>\n",
       "</div>"
      ],
      "text/plain": [
       "       id  runtime release_date  vote_average  release_year    budget_adj  \\\n",
       "0  135397    124.0   2015-06-09           6.5          2015  1.379999e+08   \n",
       "1   76341    120.0   2015-05-13           7.1          2015  1.379999e+08   \n",
       "\n",
       "    revenue_adj genre_1    genre_2          genre_3   genre_4 genre_5  \\\n",
       "0  1.392446e+09  Action  Adventure  Science Fiction  Thriller    None   \n",
       "1  3.481613e+08  Action  Adventure  Science Fiction  Thriller    None   \n",
       "\n",
       "  vote_avg_group runtime_group  \n",
       "0     6.0 to 6.6  2 to 2.5 hrs  \n",
       "1     6.6 to 9.2  1.5 to 2 hrs  "
      ]
     },
     "execution_count": 186,
     "metadata": {},
     "output_type": "execute_result"
    }
   ],
   "source": [
    "#the bin edges that will be used to \"cut\" the data into groups\n",
    "runtime_bin_edges = np.arange(0,241,30)\n",
    "\n",
    "#the labels for the runtime groups\n",
    "runtime_bin_names = ['Less than 30 min', '30 to 60 min', '1 to 1.5 hrs', '1.5 to 2 hrs', '2 to 2.5 hrs', '2.5 to 3 hrs', '3 to 3.5 hrs', '3.5 to 4 hrs'] \n",
    "\n",
    "#create runtime_group column\n",
    "df['runtime_group'] = pd.cut(df['runtime'], runtime_bin_edges, labels = runtime_bin_names)\n",
    "\n",
    "df.head(2)"
   ]
  },
  {
   "cell_type": "code",
   "execution_count": 187,
   "metadata": {
    "scrolled": false
   },
   "outputs": [
    {
     "data": {
      "text/plain": [
       "runtime_group\n",
       "Less than 30 min     205\n",
       "30 to 60 min          98\n",
       "1 to 1.5 hrs        2614\n",
       "1.5 to 2 hrs        6347\n",
       "2 to 2.5 hrs        1236\n",
       "2.5 to 3 hrs         215\n",
       "3 to 3.5 hrs          65\n",
       "3.5 to 4 hrs          20\n",
       "Name: id, dtype: int64"
      ]
     },
     "execution_count": 187,
     "metadata": {},
     "output_type": "execute_result"
    }
   ],
   "source": [
    "#check the total number of movies in each group\n",
    "df.groupby('runtime_group').count()['id']"
   ]
  },
  {
   "cell_type": "markdown",
   "metadata": {},
   "source": [
    "Well, still There is a significant variation in the number of movies of each runtime group, so I will extract the top 20 revenue-earning movies of each runtime group and store and store the mean of the revenue_adj of each group in a new dataframe and use it to create the plot. (I only select the top 20 since it is the minimum total number of movies in the runtime groups). "
   ]
  },
  {
   "cell_type": "code",
   "execution_count": 188,
   "metadata": {
    "scrolled": true
   },
   "outputs": [
    {
     "data": {
      "text/plain": [
       "runtime_group\n",
       "Less than 30 min    5.147797e+07\n",
       "30 to 60 min        5.401724e+07\n",
       "1 to 1.5 hrs        6.802327e+08\n",
       "1.5 to 2 hrs        9.972940e+08\n",
       "2 to 2.5 hrs        1.413076e+09\n",
       "2.5 to 3 hrs        1.077488e+09\n",
       "3 to 3.5 hrs        4.641501e+08\n",
       "3.5 to 4 hrs        6.829722e+07\n",
       "Name: revenue_adj, dtype: float64"
      ]
     },
     "execution_count": 188,
     "metadata": {},
     "output_type": "execute_result"
    }
   ],
   "source": [
    "#get the minimum total number of movies in the runtime groups\n",
    "min_runtime_count = df.groupby('runtime_group').count()['id'].min()\n",
    "\n",
    "#create a new dataframe with the mean of the revenue_adj of the top 20 revenue-earning movies in each runtime group\n",
    "top_revenue_runtime = df.groupby('runtime_group')['revenue_adj'].nlargest(min_runtime_count).mean(level=0)\n",
    "\n",
    "top_revenue_runtime"
   ]
  },
  {
   "cell_type": "code",
   "execution_count": 189,
   "metadata": {},
   "outputs": [
    {
     "data": {
      "image/png": "[encoded data removed]",
      "text/plain": [
       "<matplotlib.figure.Figure at 0x7f5dbfe97ef0>"
      ]
     },
     "metadata": {},
     "output_type": "display_data"
    }
   ],
   "source": [
    "#the x locations\n",
    "runtime_ind = np.arange(len(top_revenue_runtime)) \n",
    "\n",
    "#create the plot\n",
    "plt.plot(runtime_ind, top_revenue_runtime, color='r')\n",
    "\n",
    "#set the plot title and labels\n",
    "plt.ylabel('Revenue')\n",
    "plt.xlabel('Runtime Groups')\n",
    "plt.title('Movie Runtime vs. Revenue')\n",
    " \n",
    "#set the xtickes    \n",
    "plt.xticks(runtime_ind, runtime_bin_names)\n",
    "#rotate the xtickes\n",
    "plt.xticks(rotation=90);"
   ]
  },
  {
   "cell_type": "markdown",
   "metadata": {},
   "source": [
    "From the line chart, we can find that movies with runtime between 2 to 2 and a half hours are mostly associated with higher revenue. And movies with runtime bellow 1 hour and above 3 and half hours are most likely to have the lowest amount of revenue. \n",
    "\n",
    "So, this should give a clear idea to the production companies about the best and worst movie's runtime, and what is the perfect runtime that will maximize their revenue."
   ]
  },
  {
   "cell_type": "markdown",
   "metadata": {},
   "source": [
    "## Q4 What is the best release (month / week / day of week) that guarantees high movie revenue?\n",
    "\n",
    "To answer this question, we will try to find the relation between the revenue (independent variable) and the movie's release month/ week /day of week (dependant variable).\n",
    "\n",
    "We can define the best release month as the month that has the highest average revenue over all the previous years. The same thing goes for the best release week or day of the week.     \n",
    "\n",
    "To find the release (month / week / day of week) which are associated with high revenue, we first have to extract these values from the release date of each movie.  "
   ]
  },
  {
   "cell_type": "code",
   "execution_count": 190,
   "metadata": {
    "scrolled": true
   },
   "outputs": [
    {
     "data": {
      "text/html": [
       "<div>\n",
       "<style>\n",
       "    .dataframe thead tr:only-child th {\n",
       "        text-align: right;\n",
       "    }\n",
       "\n",
       "    .dataframe thead th {\n",
       "        text-align: left;\n",
       "    }\n",
       "\n",
       "    .dataframe tbody tr th {\n",
       "        vertical-align: top;\n",
       "    }\n",
       "</style>\n",
       "<table border=\"1\" class=\"dataframe\">\n",
       "  <thead>\n",
       "    <tr style=\"text-align: right;\">\n",
       "      <th></th>\n",
       "      <th>id</th>\n",
       "      <th>runtime</th>\n",
       "      <th>release_date</th>\n",
       "      <th>vote_average</th>\n",
       "      <th>release_year</th>\n",
       "      <th>budget_adj</th>\n",
       "      <th>revenue_adj</th>\n",
       "      <th>genre_1</th>\n",
       "      <th>genre_2</th>\n",
       "      <th>genre_3</th>\n",
       "      <th>genre_4</th>\n",
       "      <th>genre_5</th>\n",
       "      <th>vote_avg_group</th>\n",
       "      <th>runtime_group</th>\n",
       "      <th>release_month</th>\n",
       "    </tr>\n",
       "  </thead>\n",
       "  <tbody>\n",
       "    <tr>\n",
       "      <th>0</th>\n",
       "      <td>135397</td>\n",
       "      <td>124.0</td>\n",
       "      <td>2015-06-09</td>\n",
       "      <td>6.5</td>\n",
       "      <td>2015</td>\n",
       "      <td>1.379999e+08</td>\n",
       "      <td>1.392446e+09</td>\n",
       "      <td>Action</td>\n",
       "      <td>Adventure</td>\n",
       "      <td>Science Fiction</td>\n",
       "      <td>Thriller</td>\n",
       "      <td>None</td>\n",
       "      <td>6.0 to 6.6</td>\n",
       "      <td>2 to 2.5 hrs</td>\n",
       "      <td>6</td>\n",
       "    </tr>\n",
       "    <tr>\n",
       "      <th>1</th>\n",
       "      <td>76341</td>\n",
       "      <td>120.0</td>\n",
       "      <td>2015-05-13</td>\n",
       "      <td>7.1</td>\n",
       "      <td>2015</td>\n",
       "      <td>1.379999e+08</td>\n",
       "      <td>3.481613e+08</td>\n",
       "      <td>Action</td>\n",
       "      <td>Adventure</td>\n",
       "      <td>Science Fiction</td>\n",
       "      <td>Thriller</td>\n",
       "      <td>None</td>\n",
       "      <td>6.6 to 9.2</td>\n",
       "      <td>1.5 to 2 hrs</td>\n",
       "      <td>5</td>\n",
       "    </tr>\n",
       "  </tbody>\n",
       "</table>\n",
       "</div>"
      ],
      "text/plain": [
       "       id  runtime release_date  vote_average  release_year    budget_adj  \\\n",
       "0  135397    124.0   2015-06-09           6.5          2015  1.379999e+08   \n",
       "1   76341    120.0   2015-05-13           7.1          2015  1.379999e+08   \n",
       "\n",
       "    revenue_adj genre_1    genre_2          genre_3   genre_4 genre_5  \\\n",
       "0  1.392446e+09  Action  Adventure  Science Fiction  Thriller    None   \n",
       "1  3.481613e+08  Action  Adventure  Science Fiction  Thriller    None   \n",
       "\n",
       "  vote_avg_group runtime_group  release_month  \n",
       "0     6.0 to 6.6  2 to 2.5 hrs              6  \n",
       "1     6.6 to 9.2  1.5 to 2 hrs              5  "
      ]
     },
     "execution_count": 190,
     "metadata": {},
     "output_type": "execute_result"
    }
   ],
   "source": [
    "#create a new column with the release month\n",
    "df['release_month'] = pd.DatetimeIndex(df['release_date']).month\n",
    "df.head(2)"
   ]
  },
  {
   "cell_type": "code",
   "execution_count": 191,
   "metadata": {},
   "outputs": [
    {
     "data": {
      "text/html": [
       "<div>\n",
       "<style>\n",
       "    .dataframe thead tr:only-child th {\n",
       "        text-align: right;\n",
       "    }\n",
       "\n",
       "    .dataframe thead th {\n",
       "        text-align: left;\n",
       "    }\n",
       "\n",
       "    .dataframe tbody tr th {\n",
       "        vertical-align: top;\n",
       "    }\n",
       "</style>\n",
       "<table border=\"1\" class=\"dataframe\">\n",
       "  <thead>\n",
       "    <tr style=\"text-align: right;\">\n",
       "      <th></th>\n",
       "      <th>id</th>\n",
       "      <th>runtime</th>\n",
       "      <th>release_date</th>\n",
       "      <th>vote_average</th>\n",
       "      <th>release_year</th>\n",
       "      <th>budget_adj</th>\n",
       "      <th>revenue_adj</th>\n",
       "      <th>genre_1</th>\n",
       "      <th>genre_2</th>\n",
       "      <th>genre_3</th>\n",
       "      <th>genre_4</th>\n",
       "      <th>genre_5</th>\n",
       "      <th>vote_avg_group</th>\n",
       "      <th>runtime_group</th>\n",
       "      <th>release_month</th>\n",
       "      <th>release_day</th>\n",
       "    </tr>\n",
       "  </thead>\n",
       "  <tbody>\n",
       "    <tr>\n",
       "      <th>0</th>\n",
       "      <td>135397</td>\n",
       "      <td>124.0</td>\n",
       "      <td>2015-06-09</td>\n",
       "      <td>6.5</td>\n",
       "      <td>2015</td>\n",
       "      <td>1.379999e+08</td>\n",
       "      <td>1.392446e+09</td>\n",
       "      <td>Action</td>\n",
       "      <td>Adventure</td>\n",
       "      <td>Science Fiction</td>\n",
       "      <td>Thriller</td>\n",
       "      <td>None</td>\n",
       "      <td>6.0 to 6.6</td>\n",
       "      <td>2 to 2.5 hrs</td>\n",
       "      <td>6</td>\n",
       "      <td>9</td>\n",
       "    </tr>\n",
       "    <tr>\n",
       "      <th>1</th>\n",
       "      <td>76341</td>\n",
       "      <td>120.0</td>\n",
       "      <td>2015-05-13</td>\n",
       "      <td>7.1</td>\n",
       "      <td>2015</td>\n",
       "      <td>1.379999e+08</td>\n",
       "      <td>3.481613e+08</td>\n",
       "      <td>Action</td>\n",
       "      <td>Adventure</td>\n",
       "      <td>Science Fiction</td>\n",
       "      <td>Thriller</td>\n",
       "      <td>None</td>\n",
       "      <td>6.6 to 9.2</td>\n",
       "      <td>1.5 to 2 hrs</td>\n",
       "      <td>5</td>\n",
       "      <td>13</td>\n",
       "    </tr>\n",
       "  </tbody>\n",
       "</table>\n",
       "</div>"
      ],
      "text/plain": [
       "       id  runtime release_date  vote_average  release_year    budget_adj  \\\n",
       "0  135397    124.0   2015-06-09           6.5          2015  1.379999e+08   \n",
       "1   76341    120.0   2015-05-13           7.1          2015  1.379999e+08   \n",
       "\n",
       "    revenue_adj genre_1    genre_2          genre_3   genre_4 genre_5  \\\n",
       "0  1.392446e+09  Action  Adventure  Science Fiction  Thriller    None   \n",
       "1  3.481613e+08  Action  Adventure  Science Fiction  Thriller    None   \n",
       "\n",
       "  vote_avg_group runtime_group  release_month  release_day  \n",
       "0     6.0 to 6.6  2 to 2.5 hrs              6            9  \n",
       "1     6.6 to 9.2  1.5 to 2 hrs              5           13  "
      ]
     },
     "execution_count": 191,
     "metadata": {},
     "output_type": "execute_result"
    }
   ],
   "source": [
    "#create a new column with the release day of the month\n",
    "df['release_day'] = pd.DatetimeIndex(df['release_date']).day\n",
    "df.head(2)"
   ]
  },
  {
   "cell_type": "code",
   "execution_count": 192,
   "metadata": {
    "scrolled": true
   },
   "outputs": [
    {
     "data": {
      "text/html": [
       "<div>\n",
       "<style>\n",
       "    .dataframe thead tr:only-child th {\n",
       "        text-align: right;\n",
       "    }\n",
       "\n",
       "    .dataframe thead th {\n",
       "        text-align: left;\n",
       "    }\n",
       "\n",
       "    .dataframe tbody tr th {\n",
       "        vertical-align: top;\n",
       "    }\n",
       "</style>\n",
       "<table border=\"1\" class=\"dataframe\">\n",
       "  <thead>\n",
       "    <tr style=\"text-align: right;\">\n",
       "      <th></th>\n",
       "      <th>id</th>\n",
       "      <th>runtime</th>\n",
       "      <th>release_date</th>\n",
       "      <th>vote_average</th>\n",
       "      <th>release_year</th>\n",
       "      <th>budget_adj</th>\n",
       "      <th>revenue_adj</th>\n",
       "      <th>genre_1</th>\n",
       "      <th>genre_2</th>\n",
       "      <th>genre_3</th>\n",
       "      <th>genre_4</th>\n",
       "      <th>genre_5</th>\n",
       "      <th>vote_avg_group</th>\n",
       "      <th>runtime_group</th>\n",
       "      <th>release_month</th>\n",
       "      <th>release_day</th>\n",
       "      <th>day_of_week</th>\n",
       "    </tr>\n",
       "  </thead>\n",
       "  <tbody>\n",
       "    <tr>\n",
       "      <th>0</th>\n",
       "      <td>135397</td>\n",
       "      <td>124.0</td>\n",
       "      <td>2015-06-09</td>\n",
       "      <td>6.5</td>\n",
       "      <td>2015</td>\n",
       "      <td>1.379999e+08</td>\n",
       "      <td>1.392446e+09</td>\n",
       "      <td>Action</td>\n",
       "      <td>Adventure</td>\n",
       "      <td>Science Fiction</td>\n",
       "      <td>Thriller</td>\n",
       "      <td>None</td>\n",
       "      <td>6.0 to 6.6</td>\n",
       "      <td>2 to 2.5 hrs</td>\n",
       "      <td>6</td>\n",
       "      <td>9</td>\n",
       "      <td>Tuesday</td>\n",
       "    </tr>\n",
       "    <tr>\n",
       "      <th>1</th>\n",
       "      <td>76341</td>\n",
       "      <td>120.0</td>\n",
       "      <td>2015-05-13</td>\n",
       "      <td>7.1</td>\n",
       "      <td>2015</td>\n",
       "      <td>1.379999e+08</td>\n",
       "      <td>3.481613e+08</td>\n",
       "      <td>Action</td>\n",
       "      <td>Adventure</td>\n",
       "      <td>Science Fiction</td>\n",
       "      <td>Thriller</td>\n",
       "      <td>None</td>\n",
       "      <td>6.6 to 9.2</td>\n",
       "      <td>1.5 to 2 hrs</td>\n",
       "      <td>5</td>\n",
       "      <td>13</td>\n",
       "      <td>Wednesday</td>\n",
       "    </tr>\n",
       "  </tbody>\n",
       "</table>\n",
       "</div>"
      ],
      "text/plain": [
       "       id  runtime release_date  vote_average  release_year    budget_adj  \\\n",
       "0  135397    124.0   2015-06-09           6.5          2015  1.379999e+08   \n",
       "1   76341    120.0   2015-05-13           7.1          2015  1.379999e+08   \n",
       "\n",
       "    revenue_adj genre_1    genre_2          genre_3   genre_4 genre_5  \\\n",
       "0  1.392446e+09  Action  Adventure  Science Fiction  Thriller    None   \n",
       "1  3.481613e+08  Action  Adventure  Science Fiction  Thriller    None   \n",
       "\n",
       "  vote_avg_group runtime_group  release_month  release_day day_of_week  \n",
       "0     6.0 to 6.6  2 to 2.5 hrs              6            9     Tuesday  \n",
       "1     6.6 to 9.2  1.5 to 2 hrs              5           13   Wednesday  "
      ]
     },
     "execution_count": 192,
     "metadata": {},
     "output_type": "execute_result"
    }
   ],
   "source": [
    "#create a new column with the release day of the week \n",
    "df['day_of_week'] = df['release_date'].dt.weekday_name\n",
    "df.head(2)"
   ]
  },
  {
   "cell_type": "code",
   "execution_count": 193,
   "metadata": {},
   "outputs": [
    {
     "data": {
      "text/html": [
       "<div>\n",
       "<style>\n",
       "    .dataframe thead tr:only-child th {\n",
       "        text-align: right;\n",
       "    }\n",
       "\n",
       "    .dataframe thead th {\n",
       "        text-align: left;\n",
       "    }\n",
       "\n",
       "    .dataframe tbody tr th {\n",
       "        vertical-align: top;\n",
       "    }\n",
       "</style>\n",
       "<table border=\"1\" class=\"dataframe\">\n",
       "  <thead>\n",
       "    <tr style=\"text-align: right;\">\n",
       "      <th></th>\n",
       "      <th>id</th>\n",
       "      <th>runtime</th>\n",
       "      <th>release_date</th>\n",
       "      <th>vote_average</th>\n",
       "      <th>release_year</th>\n",
       "      <th>budget_adj</th>\n",
       "      <th>revenue_adj</th>\n",
       "      <th>genre_1</th>\n",
       "      <th>genre_2</th>\n",
       "      <th>genre_3</th>\n",
       "      <th>genre_4</th>\n",
       "      <th>genre_5</th>\n",
       "      <th>vote_avg_group</th>\n",
       "      <th>runtime_group</th>\n",
       "      <th>release_month</th>\n",
       "      <th>release_day</th>\n",
       "      <th>day_of_week</th>\n",
       "      <th>release_week</th>\n",
       "    </tr>\n",
       "  </thead>\n",
       "  <tbody>\n",
       "    <tr>\n",
       "      <th>0</th>\n",
       "      <td>135397</td>\n",
       "      <td>124.0</td>\n",
       "      <td>2015-06-09</td>\n",
       "      <td>6.5</td>\n",
       "      <td>2015</td>\n",
       "      <td>1.379999e+08</td>\n",
       "      <td>1.392446e+09</td>\n",
       "      <td>Action</td>\n",
       "      <td>Adventure</td>\n",
       "      <td>Science Fiction</td>\n",
       "      <td>Thriller</td>\n",
       "      <td>None</td>\n",
       "      <td>6.0 to 6.6</td>\n",
       "      <td>2 to 2.5 hrs</td>\n",
       "      <td>6</td>\n",
       "      <td>9</td>\n",
       "      <td>Tuesday</td>\n",
       "      <td>2nd week</td>\n",
       "    </tr>\n",
       "    <tr>\n",
       "      <th>1</th>\n",
       "      <td>76341</td>\n",
       "      <td>120.0</td>\n",
       "      <td>2015-05-13</td>\n",
       "      <td>7.1</td>\n",
       "      <td>2015</td>\n",
       "      <td>1.379999e+08</td>\n",
       "      <td>3.481613e+08</td>\n",
       "      <td>Action</td>\n",
       "      <td>Adventure</td>\n",
       "      <td>Science Fiction</td>\n",
       "      <td>Thriller</td>\n",
       "      <td>None</td>\n",
       "      <td>6.6 to 9.2</td>\n",
       "      <td>1.5 to 2 hrs</td>\n",
       "      <td>5</td>\n",
       "      <td>13</td>\n",
       "      <td>Wednesday</td>\n",
       "      <td>2nd week</td>\n",
       "    </tr>\n",
       "  </tbody>\n",
       "</table>\n",
       "</div>"
      ],
      "text/plain": [
       "       id  runtime release_date  vote_average  release_year    budget_adj  \\\n",
       "0  135397    124.0   2015-06-09           6.5          2015  1.379999e+08   \n",
       "1   76341    120.0   2015-05-13           7.1          2015  1.379999e+08   \n",
       "\n",
       "    revenue_adj genre_1    genre_2          genre_3   genre_4 genre_5  \\\n",
       "0  1.392446e+09  Action  Adventure  Science Fiction  Thriller    None   \n",
       "1  3.481613e+08  Action  Adventure  Science Fiction  Thriller    None   \n",
       "\n",
       "  vote_avg_group runtime_group  release_month  release_day day_of_week  \\\n",
       "0     6.0 to 6.6  2 to 2.5 hrs              6            9     Tuesday   \n",
       "1     6.6 to 9.2  1.5 to 2 hrs              5           13   Wednesday   \n",
       "\n",
       "  release_week  \n",
       "0     2nd week  \n",
       "1     2nd week  "
      ]
     },
     "execution_count": 193,
     "metadata": {},
     "output_type": "execute_result"
    }
   ],
   "source": [
    "#the bin edges that will be used to \"cut\" the release date into 4 groups representing a month's weeks \n",
    "week_bin_edges = np.arange(1,32,7)\n",
    "\n",
    "#the labels for the weeks groups\n",
    "week_bin_names = ['1st week', '2nd week','3rd week', '4th week' ] \n",
    "\n",
    "#create a new column with the release week\n",
    "df['release_week'] = pd.cut(df['release_day'], week_bin_edges, labels = week_bin_names)\n",
    "\n",
    "df.head(2)"
   ]
  },
  {
   "cell_type": "markdown",
   "metadata": {},
   "source": [
    "After creating the necessary columns, now we can start the analysis to answer the question.\n",
    "\n",
    "### 1. The best release month:\n",
    "\n",
    "Let's first check the total number of movies released in each month"
   ]
  },
  {
   "cell_type": "code",
   "execution_count": 194,
   "metadata": {},
   "outputs": [
    {
     "data": {
      "text/plain": [
       "release_month\n",
       "1      916\n",
       "2      687\n",
       "3      821\n",
       "4      797\n",
       "5      808\n",
       "6      826\n",
       "7      798\n",
       "8      916\n",
       "9     1330\n",
       "10    1148\n",
       "11     814\n",
       "12     981\n",
       "Name: id, dtype: int64"
      ]
     },
     "execution_count": 194,
     "metadata": {},
     "output_type": "execute_result"
    }
   ],
   "source": [
    "#check the total number of movies in each month\n",
    "df.groupby('release_month').count()['id']"
   ]
  },
  {
   "cell_type": "markdown",
   "metadata": {},
   "source": [
    "Since there is a variation in the total number of movies released in each month, I will extract the top revenue-earning movies of each month and store the mean of the revenue_adj of each month in a new dataframe and use it to create the plot instead of using the overall totals. (the number of top revenue-earning movies to be selected will be based on the minimum total number of movies among all the  months)."
   ]
  },
  {
   "cell_type": "code",
   "execution_count": 195,
   "metadata": {},
   "outputs": [
    {
     "data": {
      "text/plain": [
       "release_month\n",
       "1     6.546677e+07\n",
       "2     6.141240e+07\n",
       "3     9.111294e+07\n",
       "4     7.912625e+07\n",
       "5     1.219961e+08\n",
       "6     1.457623e+08\n",
       "7     1.147895e+08\n",
       "8     7.895474e+07\n",
       "9     7.610091e+07\n",
       "10    8.752902e+07\n",
       "11    1.167415e+08\n",
       "12    1.439473e+08\n",
       "Name: revenue_adj, dtype: float64"
      ]
     },
     "execution_count": 195,
     "metadata": {},
     "output_type": "execute_result"
    }
   ],
   "source": [
    "#get the minimum total number of movies among all the months\n",
    "min_month_count = df.groupby('release_month').count()['id'].min()\n",
    "\n",
    "#create a new dataframe with the mean of the revenue_adj of the top revenue-earning movies in each month\n",
    "top_revenue_month = df.groupby('release_month')['revenue_adj'].nlargest(min_month_count).mean(level=0)\n",
    "\n",
    "top_revenue_month"
   ]
  },
  {
   "cell_type": "code",
   "execution_count": 196,
   "metadata": {
    "scrolled": true
   },
   "outputs": [
    {
     "data": {
      "image/png": "[encoded data removed]",
      "text/plain": [
       "<matplotlib.figure.Figure at 0x7f5dbd137828>"
      ]
     },
     "metadata": {},
     "output_type": "display_data"
    }
   ],
   "source": [
    "#the x locations for the bars\n",
    "month_ind = np.arange(len(top_revenue_month))\n",
    "#the width of the bars\n",
    "width = 0.70\n",
    "\n",
    "#specify the plot size\n",
    "plt.figure(figsize = (10,5))\n",
    "#create the plot bars\n",
    "plt.bar(month_ind, top_revenue_month, width, color='r', alpha=.7)\n",
    "\n",
    "#set the plot title and labels\n",
    "plt.ylabel('Revenue')\n",
    "plt.xlabel('Release Month')\n",
    "plt.title('Release Month vs. Revenue')\n",
    "\n",
    "#set the xtickes    \n",
    "plt.xticks(month_ind, top_revenue_month.index); "
   ]
  },
  {
   "cell_type": "markdown",
   "metadata": {},
   "source": [
    "From the bar chart, we can find that both June and December are associated with high revenue, so they could be considered as the best months to release a new movie. "
   ]
  },
  {
   "cell_type": "markdown",
   "metadata": {},
   "source": [
    "### 2. The best week of the month:\n",
    "\n",
    "Let's first check the total number of movies released in each week of a month"
   ]
  },
  {
   "cell_type": "code",
   "execution_count": 197,
   "metadata": {},
   "outputs": [
    {
     "data": {
      "text/plain": [
       "release_week\n",
       "1st week    2271\n",
       "2nd week    2701\n",
       "3rd week    2538\n",
       "4th week    2176\n",
       "Name: id, dtype: int64"
      ]
     },
     "execution_count": 197,
     "metadata": {},
     "output_type": "execute_result"
    }
   ],
   "source": [
    "#check the total number of movies in each week of a month\n",
    "df.groupby('release_week').count()['id']"
   ]
  },
  {
   "cell_type": "markdown",
   "metadata": {},
   "source": [
    "Since there is only a slight difference in the total number of movies released each week, we can directly go ahead and store the mean of the revenue_adj of each week in a new dataframe and use it to create the plot."
   ]
  },
  {
   "cell_type": "code",
   "execution_count": 198,
   "metadata": {
    "scrolled": true
   },
   "outputs": [
    {
     "data": {
      "text/plain": [
       "release_week\n",
       "1st week    7.475679e+07\n",
       "2nd week    7.980222e+07\n",
       "3rd week    8.518280e+07\n",
       "4th week    8.289580e+07\n",
       "Name: revenue_adj, dtype: float64"
      ]
     },
     "execution_count": 198,
     "metadata": {},
     "output_type": "execute_result"
    }
   ],
   "source": [
    "#create a new dataframe with the mean of the revenue_adj of each week\n",
    "release_week = df.groupby('release_week').revenue_adj.mean()\n",
    "release_week"
   ]
  },
  {
   "cell_type": "code",
   "execution_count": 199,
   "metadata": {},
   "outputs": [
    {
     "data": {
      "image/png": "[encoded data removed]",
      "text/plain": [
       "<matplotlib.figure.Figure at 0x7f5dbfe52da0>"
      ]
     },
     "metadata": {},
     "output_type": "display_data"
    }
   ],
   "source": [
    "#the x locations for the bars\n",
    "week_ind = np.arange(len(release_week)) \n",
    "#the width of the bars\n",
    "width = 0.70\n",
    "\n",
    "#create the plot bars\n",
    "plt.bar(week_ind, release_week, width, color='r', alpha=.7)\n",
    "\n",
    "#set the plot title and labels\n",
    "plt.ylabel('Revenue')\n",
    "plt.xlabel('Release Week of the Month')\n",
    "plt.title('Release Week of the Month vs. Revenue')\n",
    "\n",
    "#set the xtickes    \n",
    "plt.xticks(week_ind, week_bin_names); "
   ]
  },
  {
   "cell_type": "markdown",
   "metadata": {},
   "source": [
    "By looking at the bar chart we can find that all release weeks are associated with high average revenue, but releasing a movie in the second half of a month in general, and the third week of a month, in particular, will guarantee higher revenue."
   ]
  },
  {
   "cell_type": "markdown",
   "metadata": {},
   "source": [
    "### 3. The best day of the week:\n",
    "\n",
    "Let's first check the total number of movies released in each day of the week"
   ]
  },
  {
   "cell_type": "code",
   "execution_count": 200,
   "metadata": {
    "scrolled": true
   },
   "outputs": [
    {
     "data": {
      "text/plain": [
       "day_of_week\n",
       "Friday       4264\n",
       "Monday        672\n",
       "Saturday      790\n",
       "Sunday        700\n",
       "Thursday     1691\n",
       "Tuesday      1188\n",
       "Wednesday    1537\n",
       "Name: id, dtype: int64"
      ]
     },
     "execution_count": 200,
     "metadata": {},
     "output_type": "execute_result"
    }
   ],
   "source": [
    "#check the total number of movies in each day of the week\n",
    "df.groupby('day_of_week').count()['id']"
   ]
  },
  {
   "cell_type": "markdown",
   "metadata": {},
   "source": [
    "Since there is a variation in the total number of movies released in each day of the week, I will extract the top revenue-earning movies of each day of the week and store the mean of the revenue_adj of each group in a new dataframe and use it to create the plot. (the number of top revenue-earning movies to be selected will be based on the minimum total number of movies among all the days of the week)."
   ]
  },
  {
   "cell_type": "code",
   "execution_count": 201,
   "metadata": {},
   "outputs": [
    {
     "data": {
      "text/plain": [
       "day_of_week\n",
       "Friday       2.041493e+08\n",
       "Monday       8.247871e+07\n",
       "Saturday     6.953836e+07\n",
       "Sunday       7.227337e+07\n",
       "Thursday     1.761950e+08\n",
       "Tuesday      1.302338e+08\n",
       "Wednesday    2.050907e+08\n",
       "Name: revenue_adj, dtype: float64"
      ]
     },
     "execution_count": 201,
     "metadata": {},
     "output_type": "execute_result"
    }
   ],
   "source": [
    "#get the minimum total number of movies among all the days of the week\n",
    "min_day_count = df.groupby('day_of_week').count()['id'].min()\n",
    "\n",
    "#create a new dataframe with the mean of the revenue_adj of the top revenue-earning movies in each day of the week\n",
    "top_revenue_day = df.groupby('day_of_week')['revenue_adj'].nlargest(min_day_count).mean(level=0)\n",
    "\n",
    "top_revenue_day"
   ]
  },
  {
   "cell_type": "code",
   "execution_count": 202,
   "metadata": {},
   "outputs": [
    {
     "data": {
      "image/png": "[encoded data removed]",
      "text/plain": [
       "<matplotlib.figure.Figure at 0x7f5dbd045d30>"
      ]
     },
     "metadata": {},
     "output_type": "display_data"
    }
   ],
   "source": [
    "#the x locations for the bars\n",
    "day_ind = np.arange(len(top_revenue_day)) \n",
    "#the width of the bars\n",
    "width = 0.70\n",
    "\n",
    "#create the plot bars\n",
    "plt.bar(day_ind, top_revenue_day, width, color='r', alpha=.7)\n",
    "\n",
    "#set the plot title and labels\n",
    "plt.ylabel('Revenue')\n",
    "plt.xlabel('Release Day of the Week')\n",
    "plt.title('Release Day of the Week vs. Revenue')\n",
    "\n",
    "#set the xtickes    \n",
    "plt.xticks(day_ind, top_revenue_day.index)\n",
    "#rotate the xtickes\n",
    "plt.xticks(rotation=60);"
   ]
  },
  {
   "cell_type": "markdown",
   "metadata": {},
   "source": [
    "By looking at the bar chart, we can find that both Friday and Wednesday are associated with high revenue, so they could be considered as the best days of the week to release a new movie.\n",
    "\n",
    "From these three charts we can conclude that if a production company wants to maximize its revenue as much as possible it must release any new movie in a Friday or Wednesday of the third week of June or December, and this answers the question of what is the best (month / week / day of week) to release a new movie."
   ]
  },
  {
   "cell_type": "code",
   "execution_count": 203,
   "metadata": {},
   "outputs": [
    {
     "data": {
      "text/html": [
       "<div>\n",
       "<style>\n",
       "    .dataframe thead tr:only-child th {\n",
       "        text-align: right;\n",
       "    }\n",
       "\n",
       "    .dataframe thead th {\n",
       "        text-align: left;\n",
       "    }\n",
       "\n",
       "    .dataframe tbody tr th {\n",
       "        vertical-align: top;\n",
       "    }\n",
       "</style>\n",
       "<table border=\"1\" class=\"dataframe\">\n",
       "  <thead>\n",
       "    <tr style=\"text-align: right;\">\n",
       "      <th></th>\n",
       "      <th>id</th>\n",
       "      <th>runtime</th>\n",
       "      <th>release_date</th>\n",
       "      <th>vote_average</th>\n",
       "      <th>release_year</th>\n",
       "      <th>budget_adj</th>\n",
       "      <th>revenue_adj</th>\n",
       "      <th>genre_1</th>\n",
       "      <th>genre_2</th>\n",
       "      <th>genre_3</th>\n",
       "      <th>genre_4</th>\n",
       "      <th>genre_5</th>\n",
       "      <th>vote_avg_group</th>\n",
       "      <th>runtime_group</th>\n",
       "      <th>release_month</th>\n",
       "      <th>release_day</th>\n",
       "      <th>day_of_week</th>\n",
       "      <th>release_week</th>\n",
       "    </tr>\n",
       "  </thead>\n",
       "  <tbody>\n",
       "    <tr>\n",
       "      <th>0</th>\n",
       "      <td>135397</td>\n",
       "      <td>124.0</td>\n",
       "      <td>2015-06-09</td>\n",
       "      <td>6.5</td>\n",
       "      <td>2015</td>\n",
       "      <td>1.379999e+08</td>\n",
       "      <td>1.392446e+09</td>\n",
       "      <td>Action</td>\n",
       "      <td>Adventure</td>\n",
       "      <td>Science Fiction</td>\n",
       "      <td>Thriller</td>\n",
       "      <td>None</td>\n",
       "      <td>6.0 to 6.6</td>\n",
       "      <td>2 to 2.5 hrs</td>\n",
       "      <td>6</td>\n",
       "      <td>9</td>\n",
       "      <td>Tuesday</td>\n",
       "      <td>2nd week</td>\n",
       "    </tr>\n",
       "    <tr>\n",
       "      <th>1</th>\n",
       "      <td>76341</td>\n",
       "      <td>120.0</td>\n",
       "      <td>2015-05-13</td>\n",
       "      <td>7.1</td>\n",
       "      <td>2015</td>\n",
       "      <td>1.379999e+08</td>\n",
       "      <td>3.481613e+08</td>\n",
       "      <td>Action</td>\n",
       "      <td>Adventure</td>\n",
       "      <td>Science Fiction</td>\n",
       "      <td>Thriller</td>\n",
       "      <td>None</td>\n",
       "      <td>6.6 to 9.2</td>\n",
       "      <td>1.5 to 2 hrs</td>\n",
       "      <td>5</td>\n",
       "      <td>13</td>\n",
       "      <td>Wednesday</td>\n",
       "      <td>2nd week</td>\n",
       "    </tr>\n",
       "    <tr>\n",
       "      <th>2</th>\n",
       "      <td>262500</td>\n",
       "      <td>119.0</td>\n",
       "      <td>2015-03-18</td>\n",
       "      <td>6.3</td>\n",
       "      <td>2015</td>\n",
       "      <td>1.012000e+08</td>\n",
       "      <td>2.716190e+08</td>\n",
       "      <td>Adventure</td>\n",
       "      <td>Science Fiction</td>\n",
       "      <td>Thriller</td>\n",
       "      <td>None</td>\n",
       "      <td>None</td>\n",
       "      <td>6.0 to 6.6</td>\n",
       "      <td>1.5 to 2 hrs</td>\n",
       "      <td>3</td>\n",
       "      <td>18</td>\n",
       "      <td>Wednesday</td>\n",
       "      <td>3rd week</td>\n",
       "    </tr>\n",
       "    <tr>\n",
       "      <th>3</th>\n",
       "      <td>140607</td>\n",
       "      <td>136.0</td>\n",
       "      <td>2015-12-15</td>\n",
       "      <td>7.5</td>\n",
       "      <td>2015</td>\n",
       "      <td>1.839999e+08</td>\n",
       "      <td>1.902723e+09</td>\n",
       "      <td>Action</td>\n",
       "      <td>Adventure</td>\n",
       "      <td>Science Fiction</td>\n",
       "      <td>Fantasy</td>\n",
       "      <td>None</td>\n",
       "      <td>6.6 to 9.2</td>\n",
       "      <td>2 to 2.5 hrs</td>\n",
       "      <td>12</td>\n",
       "      <td>15</td>\n",
       "      <td>Tuesday</td>\n",
       "      <td>2nd week</td>\n",
       "    </tr>\n",
       "    <tr>\n",
       "      <th>4</th>\n",
       "      <td>168259</td>\n",
       "      <td>137.0</td>\n",
       "      <td>2015-04-01</td>\n",
       "      <td>7.3</td>\n",
       "      <td>2015</td>\n",
       "      <td>1.747999e+08</td>\n",
       "      <td>1.385749e+09</td>\n",
       "      <td>Action</td>\n",
       "      <td>Crime</td>\n",
       "      <td>Thriller</td>\n",
       "      <td>None</td>\n",
       "      <td>None</td>\n",
       "      <td>6.6 to 9.2</td>\n",
       "      <td>2 to 2.5 hrs</td>\n",
       "      <td>4</td>\n",
       "      <td>1</td>\n",
       "      <td>Wednesday</td>\n",
       "      <td>NaN</td>\n",
       "    </tr>\n",
       "  </tbody>\n",
       "</table>\n",
       "</div>"
      ],
      "text/plain": [
       "       id  runtime release_date  vote_average  release_year    budget_adj  \\\n",
       "0  135397    124.0   2015-06-09           6.5          2015  1.379999e+08   \n",
       "1   76341    120.0   2015-05-13           7.1          2015  1.379999e+08   \n",
       "2  262500    119.0   2015-03-18           6.3          2015  1.012000e+08   \n",
       "3  140607    136.0   2015-12-15           7.5          2015  1.839999e+08   \n",
       "4  168259    137.0   2015-04-01           7.3          2015  1.747999e+08   \n",
       "\n",
       "    revenue_adj    genre_1          genre_2          genre_3   genre_4  \\\n",
       "0  1.392446e+09     Action        Adventure  Science Fiction  Thriller   \n",
       "1  3.481613e+08     Action        Adventure  Science Fiction  Thriller   \n",
       "2  2.716190e+08  Adventure  Science Fiction         Thriller      None   \n",
       "3  1.902723e+09     Action        Adventure  Science Fiction   Fantasy   \n",
       "4  1.385749e+09     Action            Crime         Thriller      None   \n",
       "\n",
       "  genre_5 vote_avg_group runtime_group  release_month  release_day  \\\n",
       "0    None     6.0 to 6.6  2 to 2.5 hrs              6            9   \n",
       "1    None     6.6 to 9.2  1.5 to 2 hrs              5           13   \n",
       "2    None     6.0 to 6.6  1.5 to 2 hrs              3           18   \n",
       "3    None     6.6 to 9.2  2 to 2.5 hrs             12           15   \n",
       "4    None     6.6 to 9.2  2 to 2.5 hrs              4            1   \n",
       "\n",
       "  day_of_week release_week  \n",
       "0     Tuesday     2nd week  \n",
       "1   Wednesday     2nd week  \n",
       "2   Wednesday     3rd week  \n",
       "3     Tuesday     2nd week  \n",
       "4   Wednesday          NaN  "
      ]
     },
     "execution_count": 203,
     "metadata": {},
     "output_type": "execute_result"
    }
   ],
   "source": [
    "df.head()"
   ]
  },
  {
   "cell_type": "markdown",
   "metadata": {},
   "source": [
    "<a id='conclusions'></a>\n",
    "## Conclusions\n",
    "\n",
    "To summarize the findings that I got throughout this analysis, I can say that in the process of producing and releasing a new movie, production companies must take into consideration four main factors :\n",
    "1. **Movie's Runtime:** Producing a movie with runtime between 2 to 2 and a half hours will likely maximize the revenue to the highest possible amount, while a runtime bellow 1 hour or above 3 and half hours will bring the lowest revenue. \n",
    "\n",
    "\n",
    "2. **User Average Votes:** There is a strong relationship between user average votes and movies revenue in which higher average votes leads to higher revenue. So, the production companies must focus on meeting the users expectations to guarantee high average votes in order to maximize their revenue\n",
    "\n",
    "\n",
    "3. **Release Date:** The date in which a movie is released in could strongly affect the revenue, and from the analysis we can conclude that June and December are considered the best months for releasing a movie that guarantees the highest revenue, and the third week of a month and both Friday and Wednesday are considered the best week of the month and day of the week respectively. So if a production company wants to maximize its revenue as much as possible, it must select the release date wisely. \n",
    "\n",
    "\n",
    "4. **Competition Nature in The Produced Movie Genre:** The proportion of producing Animation, Documentary, Horror, Music, Science Fiction, Thriller, and TV movies is increasing over the years, while the proportion of producing Action, Adventure, Comedy, Crime, Family, Fantasy, History, Romance, war and western movies is decreasing. And the proportions of Drama and Mystery movies are almost consistent. In addition to the fact that Drama movies productions are the highest over the years followed by Comedy and Thriller, then Action and the rest of the genres. So, when selecting the genre of the next movie to be produced, a production company must be aware of the competition nature in the selected genre. \n",
    "\n",
    "#### Notes regarding the limitations of the exploration:\n",
    "\n",
    "There is a kind of significant variation in the 5 number summary values for some of the dataset's columns, which may be caused due to some outlier values. And this may have affected the results of my explorations. \n",
    "Also, replacing the 0 values in budget_adj, revenue_adj and runtime columns with the means may not be the best and most accurate approach to solve the problem."
   ]
  },
  {
   "cell_type": "code",
   "execution_count": 207,
   "metadata": {},
   "outputs": [
    {
     "data": {
      "text/plain": [
       "0"
      ]
     },
     "execution_count": 207,
     "metadata": {},
     "output_type": "execute_result"
    }
   ],
   "source": [
    "from subprocess import call\n",
    "call(['python', '-m', 'nbconvert', 'Investigate_a_Dataset.ipynb'])"
   ]
  },
  {
   "cell_type": "markdown",
   "metadata": {},
   "source": [
    "## Refrences\n",
    "1. https://stackoverflow.com/questions/25146121/extracting-just-month-and-year-from-pandas-datetime-column/25146337#25146337\n",
    "2. https://stackoverflow.com/questions/30222533/create-a-day-of-week-column-in-a-pandas-dataframe-using-python\n",
    "3. https://apassionatechie.wordpress.com/2018/02/24/how-do-i-split-a-string-into-several-columns-in-a-dataframe-with-pandas-python/\n",
    "4. http://pandas.pydata.org/pandas-docs/stable/reference/api/pandas.DataFrame.replace.html\n",
    "5. https://pandas.pydata.org/pandas-docs/stable/reference/api/pandas.DataFrame.merge.html\n",
    "6. https://carlyhochreiter.files.wordpress.com/2018/05/investigating-movie-dataset.pdf\n",
    "7. https://www.geeksforgeeks.org/python-pandas-melt/\n",
    "8. https://www.youtube.com/watch?v=oY62o-tBHF4\n",
    "9. http://pbpython.com/pandas-crosstab.html\n",
    "10. https://stackoverflow.com/questions/26921651/how-to-delete-the-last-row-of-data-of-a-pandas-dataframe\n",
    "11. https://stackoverflow.com/questions/13021654/get-column-index-from-column-name-in-python-pandas\n",
    "12. https://stackoverflow.com/questions/40698043/slicing-multiple-ranges-of-columns-in-pandas-by-list-of-names \n",
    "13. https://stackoverflow.com/questions/332289/how-do-you-change-the-size-of-figures-drawn-with-matplotlib\n",
    "14. https://stackoverflow.com/questions/28140771/select-only-one-index-of-multiindex-dataframe\n",
    "15. https://stackoverflow.com/questions/25430995/keeping-nan-values-and-dropping-nonmissing-values\n",
    "16. https://cmdlinetips.com/2018/02/how-to-sort-pandas-dataframe-by-columns-and-row/\n",
    "17. https://stackoverflow.com/questions/10998621/rotate-axis-text-in-python-matplotlib\n",
    "18. https://stackoverflow.com/questions/20625582/how-to-deal-with-settingwithcopywarning-in-pandas\n",
    "19. https://stackoverflow.com/questions/40390634/pandas-groupby-nlargest-sum"
   ]
  }
 ],
 "metadata": {
  "kernelspec": {
   "display_name": "Python 3",
   "language": "python",
   "name": "python3"
  },
  "language_info": {
   "codemirror_mode": {
    "name": "ipython",
    "version": 3
   },
   "file_extension": ".py",
   "mimetype": "text/x-python",
   "name": "python",
   "nbconvert_exporter": "python",
   "pygments_lexer": "ipython3",
   "version": "3.6.3"
  }
 },
 "nbformat": 4,
 "nbformat_minor": 2
}
